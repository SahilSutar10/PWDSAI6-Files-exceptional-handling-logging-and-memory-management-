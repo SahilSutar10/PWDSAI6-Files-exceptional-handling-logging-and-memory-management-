{
 "cells": [
  {
   "cell_type": "code",
   "execution_count": null,
   "id": "265fc437-6361-41b7-a9e5-4ba613109d6d",
   "metadata": {},
   "outputs": [],
   "source": [
    "# 1]  What is the difference between interpreted and compiled languages?\n",
    "'''The distinction between interpreted and compiled languages lies in how their code is translated and carried out. right here’s a top level view of the two:\n",
    "\n",
    "a)Interpreted Languages\n",
    "- Translation and Execution: Code is performed immediately through an interpreter, which translates the source code into machine code line by line or declaration through declaration at runtime.\n",
    "- Overall performance: usually slower because the translation takes place at the fly at some point of execution.\n",
    "- Portability: regularly extra portable due to the fact the source code runs on any device with the proper interpreter.\n",
    "- Debugging: less complicated to debug because errors are shown right now in the course of execution.\n",
    "- Examples: Python, JavaScript, Ruby, personal home page.\n",
    "\n",
    "b)Compiled Languages\n",
    "- Translation and Execution: Code is translated into gadget code by means of a compiler before execution. The machine code (binary) can then be executed immediately through the pc’s CPU.\n",
    "- Performance: generally faster due to the fact the translation happens beforehand of time, resulting in optimized gadget code.\n",
    "- Portability: less transportable because the compiled system code is often specific to a specific architecture or working system. To run on every other machine, the supply code need to be recompiled.\n",
    "- Debugging: Debugging can be greater complex in view that errors are diagnosed for the duration of compilation rather than execution.\n",
    "- Examples: C, C++, Rust, cross.'''"
   ]
  },
  {
   "cell_type": "code",
   "execution_count": 4,
   "id": "f3ffe7a0-360a-4f55-aa99-8192c1157074",
   "metadata": {},
   "outputs": [
    {
     "name": "stdin",
     "output_type": "stream",
     "text": [
      "Enter a number:  0\n"
     ]
    },
    {
     "name": "stdout",
     "output_type": "stream",
     "text": [
      "The error is  division by zero\n",
      "Execution complete.\n"
     ]
    }
   ],
   "source": [
    "# 2] What is exception handling in Python?\n",
    "'''Exception handling in Python is a mechanism that permits you to detect and respond to runtime errors or unusual situations on your code. those errors, known as exceptions, arise while a software encounters a situation it can't deal with, together with division with the aid of 0, accessing a non-existent record, or trying to use an undefined variable.\n",
    "\n",
    "Key principles of Exception handling in Python\n",
    "Exceptions: occasions that disrupt the ordinary flow of a program. Examples consist of:\n",
    "\n",
    "ZeroDivisionError: division through zero.\n",
    "FileNotFoundError: document does not exist.\n",
    "ValueError: Invalid fee is utilized in an operation.\n",
    "The try to besides Block: Used to seize and deal with exceptions.\n",
    "\n",
    "Code that would raise an exception is located in a try block.\n",
    "Exception-handling code is placed in a single or more except blocks.\n",
    "\n",
    "Syntax :\n",
    "try:\n",
    "    # Code that might raise an exception\n",
    "except ExceptionType:\n",
    "    # Code to handle the exception '''\n",
    "\n",
    "#Example\n",
    "try:\n",
    "    num = int(input(\"Enter a number: \"))\n",
    "    result = 10 / num\n",
    "except ZeroDivisionError as e :\n",
    "    print(\"The error is \",e)\n",
    "except ValueError:\n",
    "    print(\"Invalid input! Please enter a number.\")\n",
    "else:\n",
    "    print(\"The result is:\", result)\n",
    "finally:\n",
    "    print(\"Execution complete.\")\n",
    "\n"
   ]
  },
  {
   "cell_type": "code",
   "execution_count": 6,
   "id": "d92b685b-2da4-4f8c-a090-62bc833b6967",
   "metadata": {},
   "outputs": [
    {
     "name": "stdin",
     "output_type": "stream",
     "text": [
      "Enter a number:  5\n"
     ]
    },
    {
     "name": "stdout",
     "output_type": "stream",
     "text": [
      "Execution of the 'finally' block.\n"
     ]
    }
   ],
   "source": [
    "# 3]  What is the purpose of the finally block in exception handling?\n",
    "'''The finally block in Python's exception handling is used to define cleanup actions that should always be executed, regardless of whether an exception was raised or not. This ensures that resources are properly released and the program leaves the current state in a clean and predictable way.\n",
    "\n",
    "Purpose of the finally Block\n",
    "a) Guaranteed Execution:\n",
    "- The code in the finally block is executed no matter what happens in the try or except blocks.\n",
    "- Even if an exception occurs and is not caught, or if the try block contains a return, break, or continue statement, the finally block will still execute.\n",
    "\n",
    "b)Resource Management:\n",
    "- Used for cleanup tasks like closing files, releasing network connections, or freeing up resources.\n",
    "- Ensures resources don't remain locked or in an inconsistent state.\n",
    "\n",
    "c)Error Handling Consistency:\n",
    "- Provides a consistent way to ensure cleanup, even if an unexpected situation occurs during program execution.'''\n",
    "\n",
    "#Example\n",
    "try:\n",
    "    num = int(input(\"Enter a number: \"))\n",
    "    result = 10 / num\n",
    "except ZeroDivisionError as e :\n",
    "    print(\"The error is \", e)\n",
    "finally:\n",
    "    print(\"Execution of the 'finally' block.\")\n"
   ]
  },
  {
   "cell_type": "code",
   "execution_count": 8,
   "id": "f2e839f5-002d-47f7-94e0-9950dd08c14a",
   "metadata": {},
   "outputs": [
    {
     "name": "stderr",
     "output_type": "stream",
     "text": [
      "INFO:root:This is an info message\n",
      "WARNING:root:This is a warning message\n",
      "ERROR:root:This is an error message\n",
      "CRITICAL:root:This is a critical message\n"
     ]
    }
   ],
   "source": [
    "# 4] What is logging in Python?\n",
    "''' Logging in Python is the process of recording messages (log entries) from your program at runtime to help monitor, debug, or understand its behavior.\n",
    "Python provides a built-in logging module to facilitate logging, making it easy to track events and diagnose issues in your code.\n",
    "\n",
    "Why Use Logging?\n",
    "a) Debugging and Troubleshooting:\n",
    "- Helps identify where and why errors occur.\n",
    "- Provides detailed diagnostic information.\n",
    "\n",
    "b) Monitoring and Auditing:\n",
    "- Tracks the behavior of a program in production.\n",
    "- Keeps a record of significant events (e.g., user activity, system failures).\n",
    "\n",
    "c) Improved Development Workflow:\n",
    "- Offers more flexibility and detail compared to using print statements.\n",
    "- Allows messages to be categorized and prioritized.\n",
    "\n",
    "d) Persistence:\n",
    "- Logs can be saved to files or sent to external systems, enabling post-mortem analysis of issues.\n",
    "\n",
    "Logging Levels\n",
    "Python's logging module defines the following log levels (in increasing order of severity):\n",
    "Level\t                                                Description\n",
    "\n",
    "DEBUG\t                          Detailed diagnostic information for development.\n",
    "INFO\t                          General information about program execution.\n",
    "WARNING\t                       Indications of potential issues or unexpected situations.\n",
    "ERROR                         \tErrors that prevent some functionality from working.\n",
    "CRITICAL                      \tSevere errors causing the program to crash or fail.'''\n",
    "\n",
    "#Example\n",
    "import logging\n",
    "\n",
    "# Configure logging\n",
    "logging.basicConfig(level=logging.INFO)\n",
    "\n",
    "logging.debug(\"This is a debug message\")\n",
    "logging.info(\"This is an info message\")\n",
    "logging.warning(\"This is a warning message\")\n",
    "logging.error(\"This is an error message\")\n",
    "logging.critical(\"This is a critical message\")\n"
   ]
  },
  {
   "cell_type": "code",
   "execution_count": 10,
   "id": "36515d78-4ad7-4e71-97ce-8c4d31e518d6",
   "metadata": {},
   "outputs": [
    {
     "name": "stdout",
     "output_type": "stream",
     "text": [
      "Object <__main__.MyClass object at 0x00000213A6ABD640> is being destroyed.\n"
     ]
    }
   ],
   "source": [
    "# 5] What is the significance of the __del__ method in Python?\n",
    "'''The __del__ method in Python is a special method (a.k.a. a dunder method) called a destructor. It is automatically invoked when an object is about to be destroyed (i.e., when its reference count reaches zero).\n",
    " This happens as part of Python’s garbage collection process.\n",
    "\n",
    "Purpose of __del__\n",
    "a) Resource Cleanup:\n",
    "__del__ can be used to release external resources held by the object, such as closing open files, releasing database connections, or cleaning up temporary resources.\n",
    "\n",
    "b)Custom Finalization Logic:\n",
    "Perform custom tasks before the object is deleted, such as logging or notifying other parts of a program.'''\n",
    "\n",
    "#Example\n",
    "class MyClass:\n",
    "    def __del__(self):\n",
    "        print(f\"Object {self} is being destroyed.\")\n",
    "\n",
    "# Create and delete an object\n",
    "obj = MyClass()\n",
    "del obj  # Explicitly triggers the destructor\n",
    "\n"
   ]
  },
  {
   "cell_type": "code",
   "execution_count": 12,
   "id": "8808eaa7-c096-4ea4-9682-b89e9a29e88c",
   "metadata": {},
   "outputs": [
    {
     "name": "stdout",
     "output_type": "stream",
     "text": [
      "4.0\n",
      "4.0\n"
     ]
    }
   ],
   "source": [
    "# 6]  What is the difference between import and from ... import in Python?\n",
    "'''In Python, both import and from ... import are used to bring modules or specific items from modules into your code, but they work slightly differently:\n",
    "\n",
    "1. import Statement:\n",
    "Syntax: import module_name\n",
    "This brings the entire module into your code, and you access its functions, classes, or variables using the module's name as a prefix.\n",
    "Example:'''\n",
    "\n",
    "import math\n",
    "print(math.sqrt(16))  # Accessing the `sqrt` function through the `math` module\n",
    "\n",
    "#Use Case: Use this when you want to use multiple functions, classes, or variables from a module or to avoid naming conflicts.\n",
    "\n",
    "'''2. from ... import Statement:\n",
    "Syntax: from module_name import specific_item\n",
    "This allows you to import specific items (functions, classes, or variables) from a module directly into your namespace.\n",
    "Example:'''\n",
    "\n",
    "from math import sqrt\n",
    "print(sqrt(16))  # Accessing `sqrt` directly without the `math` prefix\n",
    "\n",
    "#Use Case: Use this when you only need specific items from a module, as it can make your code shorter and easier to read.\n"
   ]
  },
  {
   "cell_type": "code",
   "execution_count": 14,
   "id": "e7e2481d-3dab-40c8-a69d-c893090c0dbe",
   "metadata": {},
   "outputs": [
    {
     "name": "stdout",
     "output_type": "stream",
     "text": [
      "Cannot divide by zero!\n",
      "A ValueError or TypeError occurred!\n",
      "An error occurred: division by zero\n",
      "Cannot divide by zero!\n",
      "Operation succeeded: 5.0\n",
      "Execution finished.\n"
     ]
    }
   ],
   "source": [
    "# 7] How can you handle multiple exceptions in Python?\n",
    "'''In Python, you can handle multiple exceptions using the try...except block in several ways, depending on the context. Here's how you can do it:\n",
    "\n",
    "1. Using Multiple except Blocks\n",
    "You can have separate except blocks for each exception type. This allows you to handle different exceptions in different ways.'''\n",
    "\n",
    "try:\n",
    "    # Code that may raise an exception\n",
    "    result = 10 / 0\n",
    "except ZeroDivisionError:\n",
    "    print(\"Cannot divide by zero!\")\n",
    "except ValueError:\n",
    "    print(\"Invalid value!\")\n",
    "\n",
    "# 2. Catching Multiple Exceptions in a Single except Block\n",
    "try:\n",
    "    # Code that may raise an exception\n",
    "    result = int(\"abc\")  # This raises ValueError\n",
    "except (ValueError, TypeError):\n",
    "    print(\"A ValueError or TypeError occurred!\")\n",
    "\n",
    "# 3. Using a Generic except Block\n",
    "try:\n",
    "    # Code that may raise an exception\n",
    "    result = 10 / 0\n",
    "except Exception as e:  # `e` captures the exception details\n",
    "    print(f\"An error occurred: {e}\")\n",
    "\n",
    "# 4. Combining Specific and Generic Exception Handling\n",
    "try:\n",
    "    # Code that may raise an exception\n",
    "    result = 10 / 0\n",
    "except ZeroDivisionError:\n",
    "    print(\"Cannot divide by zero!\")\n",
    "except Exception as e:\n",
    "    print(f\"An unexpected error occurred: {e}\")\n",
    "\n",
    "# 5.Using else and finally\n",
    "try:\n",
    "    result = 10 / 2  # No exception here\n",
    "except ZeroDivisionError:\n",
    "    print(\"Cannot divide by zero!\")\n",
    "else:\n",
    "    print(\"Operation succeeded:\", result)\n",
    "finally:\n",
    "    print(\"Execution finished.\")\n"
   ]
  },
  {
   "cell_type": "code",
   "execution_count": 79,
   "id": "8458f253-4209-4b69-a7f0-2dd132b462e5",
   "metadata": {},
   "outputs": [
    {
     "name": "stdout",
     "output_type": "stream",
     "text": [
      "17\n"
     ]
    }
   ],
   "source": [
    "# 8]  What is the purpose of the with statement when handling files in Python?\n",
    "'''The with statement in Python simplifies and improves the way resources, such as files, are managed. It is particularly useful when working with files because it ensures that resources are properly closed and cleaned up, even if an error occurs during processing.\n",
    "Key Purposes of the with Statement:\n",
    "Automatic Resource Management:\n",
    "\n",
    "The with statement ensures that the file is properly closed after its block of code is executed, regardless of whether an exception was raised.\n",
    "This eliminates the need to explicitly call file.close() and reduces the risk of resource leaks.\n",
    "Cleaner and More Readable Code:\n",
    "\n",
    "The with statement makes code easier to read and understand by clearly defining the scope in which the file is used.\n",
    "Exception Safety:\n",
    "\n",
    "If an exception occurs within the with block, the file is still closed properly, making the code more robust.'''\n",
    "#Example\n",
    "with open('example.txt', 'w') as file:\n",
    "    content = file.write(\"Hello Sahil Sutar\")\n",
    "    print(content)\n",
    "    \n",
    "# File is automatically closed here\n"
   ]
  },
  {
   "cell_type": "code",
   "execution_count": 25,
   "id": "6b97ff11-e09b-4147-b6ca-896bd92b07bb",
   "metadata": {},
   "outputs": [
    {
     "name": "stdout",
     "output_type": "stream",
     "text": [
      "0\n",
      "1\n",
      "2\n",
      "3\n",
      "4\n",
      "0\n",
      "1\n",
      "2\n",
      "3\n",
      "4\n"
     ]
    }
   ],
   "source": [
    "# 9] What is the difference between multithreading and multiprocessing?\n",
    "'''The main difference between multithreading and multiprocessing lies in how they achieve parallelism and manage system resources. Both are techniques for concurrent execution, but they have distinct characteristics and use cases.\n",
    "a) Multithreading\n",
    "Definition: Multithreading involves multiple threads running within a single process. Threads share the same memory space and resources of the process.\n",
    "Characteristics:\n",
    "- Lightweight: Threads are smaller and take less memory compared to processes.\n",
    "- Shared Memory: Threads within the same process can directly share data, which simplifies communication.\n",
    "- Concurrency: Achieves concurrency but may not achieve true parallelism due to the Global Interpreter Lock (GIL) in CPython (the standard Python implementation).\n",
    "- Best For: I/O-bound tasks, such as reading/writing files or handling network requests, where waiting is a bottleneck.\n",
    "Example:'''\n",
    "\n",
    "import threading\n",
    "\n",
    "def print_numbers():\n",
    "    for i in range(5):\n",
    "        print(i)\n",
    "\n",
    "thread1 = threading.Thread(target=print_numbers)\n",
    "thread2 = threading.Thread(target=print_numbers)\n",
    "\n",
    "thread1.start()\n",
    "thread2.start()\n",
    "\n",
    "thread1.join()\n",
    "thread2.join()\n",
    "\n",
    "'''2. Multiprocessing\n",
    "Definition: Multiprocessing involves multiple processes running independently, each with its own memory space and resources.\n",
    "Characteristics:\n",
    "- Heavyweight: Processes require more memory and resources than threads.\n",
    "- Separate Memory: Each process has its own memory space, making data sharing more complex (requires inter-process communication).\n",
    "- True Parallelism: Achieves true parallelism because each process runs independently, unaffected by the GIL.\n",
    "- Best For: CPU-bound tasks, such as mathematical computations or data analysis, where the processor is the bottleneck.\n",
    "Example:'''\n",
    "\n",
    "\n",
    "from multiprocessing import Process\n",
    "\n",
    "def print_numbers():\n",
    "    for i in range(5):\n",
    "        print(i)\n",
    "\n",
    "process1 = Process(target=print_numbers)\n",
    "process2 = Process(target=print_numbers)\n",
    "\n",
    "process1.start()\n",
    "process2.start()\n",
    "\n",
    "process1.join()\n",
    "process2.join()"
   ]
  },
  {
   "cell_type": "code",
   "execution_count": 27,
   "id": "5ee4d61e-a442-44c0-8f69-cfa8651ef1ef",
   "metadata": {},
   "outputs": [
    {
     "name": "stderr",
     "output_type": "stream",
     "text": [
      "INFO:root:This is an info message\n",
      "WARNING:root:This is a warning message\n",
      "ERROR:root:This is an error message\n",
      "CRITICAL:root:This is a critical message\n"
     ]
    }
   ],
   "source": [
    "# 10] What are the advantages of using logging in a program?\n",
    "'''Using logging in a program provides several advantages, particularly in improving maintainability, debugging, and monitoring. \n",
    "Here are the key benefits:\n",
    "1. Enhanced Debugging and Error Diagnosis\n",
    "Logging helps developers understand what a program was doing at any given point in time, which is crucial for diagnosing and resolving issues.\n",
    "Detailed logs can provide insights into the program's execution flow, state, and any errors that occurred.\n",
    "2. Persistent Record of Events\n",
    "Logs can be written to files or external systems, creating a historical record of events. This is valuable for analyzing past issues or verifying system behavior over time.\n",
    "3. Real-Time Monitoring\n",
    "Logging can provide real-time feedback on the application's behavior, helping detect anomalies or unexpected events as they occur.\n",
    "4. Separation of Concerns\n",
    "Logging separates the responsibility of reporting events from the main program logic, making the code cleaner and easier to maintain.\n",
    "5. Configurability\n",
    "Python's logging module allows for configurable logging levels (e.g., DEBUG, INFO, WARNING, ERROR, CRITICAL), enabling developers to control the verbosity of logs based on the environment (development vs. production).\n",
    "For example, you can use detailed DEBUG logs in development and only log ERROR and CRITICAL events in production.\n",
    "6. Centralized Logging\n",
    "With logging frameworks, logs from various parts of a system can be consolidated in one place for easier analysis.\n",
    "7. Reduced Use of Print Statements\n",
    "Using logging eliminates the need to clutter the codebase with print statements for debugging. Logs are more flexible, configurable, and easier to manage.\n",
    "8. Integration with Monitoring Tools\n",
    "Logging frameworks can integrate with external monitoring tools (e.g., ELK stack, Splunk, CloudWatch) for advanced analytics, visualization, and alerting.\n",
    "9. Contextual Information\n",
    "Logs can include contextual information like timestamps, thread/process IDs, or user actions, making it easier to understand the sequence of events.\n",
    "10. Lightweight and Efficient\n",
    "Logging frameworks are designed to minimize performance impact while providing rich functionality. For example, you can defer expensive operations (like formatting or writing logs to files) to avoid slowing down the main application.'''\n",
    "#Example\n",
    "import logging\n",
    "\n",
    "# Configure the logging\n",
    "logging.basicConfig(\n",
    "    filename='app.log',\n",
    "    level=logging.DEBUG,\n",
    "    format='%(asctime)s - %(levelname)s - %(message)s'\n",
    ")\n",
    "\n",
    "# Example usage\n",
    "logging.debug('This is a debug message')\n",
    "logging.info('This is an info message')\n",
    "logging.warning('This is a warning message')\n",
    "logging.error('This is an error message')\n",
    "logging.critical('This is a critical message')\n",
    "\n",
    "\n"
   ]
  },
  {
   "cell_type": "code",
   "execution_count": null,
   "id": "f7aaed6a-d425-4616-9cc1-5ecc6f26c7da",
   "metadata": {},
   "outputs": [],
   "source": [
    "# 11]  What is memory management in Python?\n",
    "'''Memory management in Python refers to the process by which Python manages the allocation and deallocation of memory for objects and data structures in a program. Python has a built-in memory management system that handles these tasks automatically, making it easier for developers to focus on writing code without worrying about low-level memory operations.\n",
    "- Features of Python Memory Management\n",
    "- Automatic Memory Management:\n",
    "Python automatically allocates and deallocates memory, reducing the burden on developers.\n",
    "- Dynamic Typing:\n",
    "Variables don't have fixed memory sizes; they grow or shrink as needed.\n",
    "- Efficiency:\n",
    "Memory pooling and optimized allocation reduce fragmentation and speed up operations.\n",
    "- Cross-Platform:\n",
    "Python's memory management is abstracted to work consistently across different operating systems.'''\n"
   ]
  },
  {
   "cell_type": "code",
   "execution_count": 39,
   "id": "0e97b77e-761f-4358-9d30-1e9365f8d983",
   "metadata": {},
   "outputs": [
    {
     "name": "stdin",
     "output_type": "stream",
     "text": [
      "Enter a number:  10\n"
     ]
    },
    {
     "name": "stdout",
     "output_type": "stream",
     "text": [
      "Result is: 10.0\n",
      "Execution complete.\n"
     ]
    }
   ],
   "source": [
    "# 12] What are the basic steps involved in exception handling in Python?\n",
    "'''Exception handling in Python is a structured way to detect and respond to errors that occur during program execution. The process involves a few basic steps:\n",
    "1. Identifying Code that May Raise an Exception\n",
    "Wrap the code that could potentially raise an exception in a try block.\n",
    "The try block contains the code to be executed.\n",
    "\n",
    "2. Catching the Exception\n",
    "Use an  block to specify what should happen if an exception is raised in the try block.\n",
    "You can catch specific exceptions or a generic exception.\n",
    "\n",
    "3. Handling the Exception\n",
    "Inside the except block, you define how to handle the error.\n",
    "This could include logging the error, retrying the operation, or displaying an appropriate message to the user.\n",
    "\n",
    "4. Using else for Code that Runs if No Exception Occurs\n",
    "An else block can be added to execute code only if the try block does not raise any exceptions.\n",
    "\n",
    "5. Cleaning Up with finally\n",
    "A finally block is optional but ensures that certain cleanup operations are performed regardless of whether an exception was raised or not.\n",
    "Common use cases include closing files or releasing resources.\n",
    "\n",
    "6. Raising Exceptions Explicitly\n",
    "Use the raise statement to raise an exception explicitly when you encounter an unexpected situation.'''\n",
    "\n",
    "#Example\n",
    "try:\n",
    "    number = int(input(\"Enter a number: \"))\n",
    "    result = 100 / number\n",
    "except ValueError:\n",
    "    print(\"Please enter a valid number.\")\n",
    "except ZeroDivisionError:\n",
    "    print(\"Division by zero is not allowed.\")\n",
    "else:\n",
    "    print(\"Result is:\", result)\n",
    "finally:\n",
    "    print(\"Execution complete.\")\n",
    "\n",
    "\n"
   ]
  },
  {
   "cell_type": "code",
   "execution_count": null,
   "id": "ee95002f-41cc-46c3-8cf8-5252bd892f6b",
   "metadata": {},
   "outputs": [],
   "source": [
    "# 13] Why is memory management important in Python?\n",
    "'''Memory management is crucial in Python (or any programming language) because it directly affects a program's performance, reliability, and efficiency. Proper memory management ensures that a program uses system resources optimally, avoids memory leaks, and maintains smooth execution. Below are the key reasons why memory management is important in Python:\n",
    "1. Preventing Memory Leaks\n",
    "Memory leaks occur when a program retains references to objects no longer needed, causing the memory used by those objects to remain allocated.\n",
    "Python’s memory management system, including reference counting and garbage collection, helps identify and clean up unused objects, preventing memory leaks.\n",
    "2. Efficient Use of Resources\n",
    "Python programs often deal with large datasets, such as files, databases, or in-memory computations. Efficient memory management ensures these resources are used effectively and reduces the program's memory footprint.\n",
    "Without proper management, programs can consume excessive memory, leading to performance degradation or crashes.\n",
    "3. Supporting High-Performance Applications\n",
    "Applications with heavy computational or data-processing requirements, like machine learning or web servers, demand efficient memory handling to process tasks quickly and scale effectively.\n",
    "4. Ensuring Stability and Reliability\n",
    "Poor memory management can lead to issues like segmentation faults or crashes, making the program unreliable.\n",
    "Python’s automatic memory management reduces the risk of such problems by handling allocation and deallocation tasks systematically.\n",
    "5. Simplifying Development\n",
    "Python's memory management system abstracts many complexities of manual memory allocation and deallocation, allowing developers to focus on writing application logic instead of managing memory directly.\n",
    "Features like dynamic typing and automatic garbage collection make it easier to write clean and maintainable code.\n",
    "6. Managing Shared and Complex Data Structures\n",
    "Python programs often involve complex data structures (e.g., nested lists, dictionaries) or shared resources. Proper memory management ensures these are handled safely and efficiently, preventing issues like reference cycles or dangling pointers.\n",
    "7. Supporting Scalability\n",
    "In large-scale applications or multi-threaded/multi-process environments, efficient memory management is vital for maintaining performance as the workload grows.\n",
    "Python’s memory pool management and garbage collector play a key role in scaling applications effectively.\n",
    "8. Improving Debugging and Troubleshooting\n",
    "Effective memory management helps developers identify and resolve issues related to memory usage, such as excessive memory consumption or unintentional object retention, using tools like gc, memory_profiler, and tracemalloc.'''"
   ]
  },
  {
   "cell_type": "code",
   "execution_count": 41,
   "id": "17979b64-937a-4a6f-9728-0282c623ab3e",
   "metadata": {},
   "outputs": [
    {
     "name": "stdin",
     "output_type": "stream",
     "text": [
      "Enter a number:  a\n"
     ]
    },
    {
     "name": "stdout",
     "output_type": "stream",
     "text": [
      "Please enter a valid integer.\n"
     ]
    }
   ],
   "source": [
    "# 14] What is the role of try and except in exception handling?\n",
    "'''The try and except blocks are fundamental components of exception handling in Python. They provide a structured way to detect and respond to runtime errors (exceptions) in a program, ensuring the program can handle errors gracefully without crashing unexpectedly. Here's a breakdown of their roles:\n",
    "Role of try\n",
    "The try block contains the code that might raise an exception. It acts as a \"guarded\" block where potential errors are expected, and Python monitors this block for exceptions during its execution.\n",
    "Key Points:\n",
    "- Detects Exceptions:\n",
    "If an error occurs in the try block, Python immediately stops execution of that block and moves to the corresponding except block to handle the error.\n",
    " Normal Flow Execution:\n",
    "If no exception occurs, the try block completes execution, and the program skips the except block.\n",
    "\n",
    "Role of except\n",
    "The except block defines how to handle specific exceptions that occur in the try block. It provides alternative actions or messages to manage errors gracefully.\n",
    "Key Points:\n",
    "- Handles Specific Exceptions\n",
    "- Handles Multiple Exception Types\n",
    "- Catch-All Block:\n",
    "A generic except block can catch any exception, but this is generally discouraged unless you re-raise or log the exception for debugging.\n",
    "- Access Exception Details:\n",
    "You can capture and work with exception details using the as keyword'''\n",
    "#Example \n",
    "try:\n",
    "    num = int(input(\"Enter a number: \"))\n",
    "    result = 10 / num\n",
    "except ValueError:\n",
    "    print(\"Please enter a valid integer.\")\n",
    "except ZeroDivisionError:\n",
    "    print(\"Cannot divide by zero.\")\n",
    "else:\n",
    "    print(f\"Result: {result}\")\n",
    "\n",
    "\n"
   ]
  },
  {
   "cell_type": "code",
   "execution_count": 49,
   "id": "a2e25625-fae0-4c44-a640-4493a5ad5bfe",
   "metadata": {},
   "outputs": [
    {
     "name": "stdout",
     "output_type": "stream",
     "text": [
      "(700, 10, 10)\n",
      "[]\n"
     ]
    }
   ],
   "source": [
    "# 15]  How does Python's garbage collection system work?\n",
    "'''Python's garbage collection (GC) system is part of its memory management framework, which ensures that memory occupied by objects no longer in use is reclaimed. This process is automatic and primarily involves two mechanisms: reference counting and cyclic garbage collection.\n",
    "\n",
    "1. Reference Counting\n",
    "Python tracks the number of references (pointers) to each object in memory. This count is known as the reference count.\n",
    "An object's reference count increases when:\n",
    "A new reference to the object is created (e.g., assigning it to a variable or adding it to a container).\n",
    "An object's reference count decreases when:\n",
    "A reference to the object is deleted (e.g., using del or reassigning the variable).\n",
    "When the reference count drops to zero, the object is immediately deallocated, and its memory is freed.\n",
    "Example:'''\n",
    "\n",
    "a = [1, 2, 3]  # Reference count = 1\n",
    "b = a          # Reference count = 2\n",
    "del a          # Reference count = 1\n",
    "del b          # Reference count = 0 (object is deallocated)\n",
    "\n",
    "'''Advantages:\n",
    "Simple and fast for most cases.\n",
    "Immediate cleanup of unreachable objects.\n",
    "Limitation:\n",
    "Fails to handle reference cycles (e.g., two objects referencing each other).\n",
    "\n",
    "2. Cyclic Garbage Collection\n",
    "To handle reference cycles, Python includes a cyclic garbage collector in the gc module.\n",
    "What Are Reference Cycles?\n",
    "A reference cycle occurs when two or more objects reference each other but are no longer accessible from the program, preventing their reference counts from reaching zero.\n",
    "Example of a Reference Cycle:'''\n",
    "\n",
    "class Node:\n",
    "    def __init__(self, name):\n",
    "        self.name = name\n",
    "        self.reference = None\n",
    "\n",
    "a = Node(\"A\")\n",
    "b = Node(\"B\")\n",
    "a.reference = b\n",
    "b.reference = a\n",
    "\n",
    "del a\n",
    "del b\n",
    "# Reference counts for the two objects remain non-zero due to the cycle.\n",
    "\n",
    "'''How Cyclic GC Works:\n",
    "The garbage collector identifies and breaks reference cycles by examining groups of objects and checking if they are unreachable from any \"root\" references (e.g., global variables, active stack frames).\n",
    "It periodically runs in the background or can be triggered manually using the gc module.\n",
    "Example of Triggering GC Manually:'''\n",
    "\n",
    "import gc\n",
    "\n",
    "gc.collect()  # Forces garbage collection to reclaim unused memory\n",
    "\n",
    "'''3. Generational Garbage Collection\n",
    "Python organizes objects into generations based on their age:\n",
    "Generation 0 (Young Objects): Newly created objects.\n",
    "Generation 1 and 2 (Older Objects): Objects that survive garbage collection in Generation 0 are promoted to older generations.\n",
    "Why Generational GC?\n",
    "Most objects in Python are short-lived (e.g., temporary variables), so collecting younger generations more frequently is efficient.\n",
    "Older generations are scanned less often, as objects there are likely still in use.\n",
    "Example of Generational GC in Action:'''\n",
    "\n",
    "import gc\n",
    "\n",
    "# View current thresholds for garbage collection\n",
    "print(gc.get_threshold())\n",
    "\n",
    "# Adjust thresholds for fine-tuning\n",
    "gc.set_threshold(700, 10, 10)\n",
    "\n",
    "'''4. Integration with Memory Pools\n",
    "Python uses memory pools for small objects to reduce fragmentation and improve allocation performance:\n",
    "Small objects are managed by the PyObject allocator.\n",
    "Large objects are directly managed by the operating system.\n",
    "\n",
    "5. Customizing and Monitoring Garbage Collection\n",
    "Developers can control garbage collection using the gc module:\n",
    "Enable/Disable GC:'''\n",
    "\n",
    "gc.disable()  # Disable garbage collection\n",
    "gc.enable()   # Re-enable garbage collection\n",
    "\n",
    "#Manually Trigger GC:\n",
    "gc.collect()\n",
    "\n",
    "#Inspect Unreachable Objects:\n",
    "print(gc.garbage)  # List of objects identified but not collected\n"
   ]
  },
  {
   "cell_type": "code",
   "execution_count": 51,
   "id": "0f5c7531-5c8c-48e0-85df-f123f8662a7a",
   "metadata": {},
   "outputs": [
    {
     "name": "stdin",
     "output_type": "stream",
     "text": [
      "Enter a number:  10\n"
     ]
    },
    {
     "name": "stdout",
     "output_type": "stream",
     "text": [
      "The result is: 10.0\n"
     ]
    }
   ],
   "source": [
    "# 16] What is the purpose of the else block in exception handling?\n",
    "'''The else block in Python's exception handling is used to define code that should execute only if no exceptions are raised in the corresponding try block. It provides a way to separate the error-handling logic from the regular flow of the program, making the code cleaner and more readable.\n",
    "Purpose of the else Block in Exception Handling\n",
    "- Execute Code if No Exception Occurs:\n",
    "The else block allows you to place code that should only run if the try block was successful and did not raise any exceptions.\n",
    "It helps keep the normal code separate from the error-handling code.\n",
    "- Improves Readability:\n",
    "By placing the \"normal\" code in the else block, you clearly separate what happens when everything works correctly from the error handling.\n",
    "- Reduces Code Duplication:\n",
    "Without the else block, you might need to write additional conditional checks or extra logic to ensure that some part of the program only runs after successful execution of the try block. The else block streamlines this process.'''\n",
    "try:\n",
    "    # Code that may raise an exception\n",
    "    number = int(input(\"Enter a number: \"))\n",
    "    result = 100 / number\n",
    "except ValueError:\n",
    "    print(\"Invalid input! Please enter a valid integer.\")\n",
    "except ZeroDivisionError:\n",
    "    print(\"Cannot divide by zero.\")\n",
    "else:\n",
    "    # Code to run if no exceptions occurred\n",
    "    print(f\"The result is: {result}\")\n"
   ]
  },
  {
   "cell_type": "code",
   "execution_count": 53,
   "id": "96e54c59-6e65-450e-b46f-ed9516fb1acd",
   "metadata": {},
   "outputs": [
    {
     "name": "stderr",
     "output_type": "stream",
     "text": [
      "CRITICAL:root:A critical error occurred, system failure!\n",
      "ERROR:root:An error occurred while opening the file.\n",
      "WARNING:root:The configuration file is missing, using defaults.\n",
      "INFO:root:User successfully logged in.\n"
     ]
    }
   ],
   "source": [
    "# 17]  What are the common logging levels in Python?\n",
    "'''Python's logging module provides a way to track events and messages in your programs. The module defines a hierarchy of logging levels to indicate the severity or importance of the messages being logged. These levels help you control which messages get logged depending on the environment (e.g., development, production).\n",
    "Here are the common logging levels in Python, listed from the most severe to the least severe:\n",
    "1. CRITICAL (Level 50)\n",
    "Description: Used to indicate very serious errors that may cause the program to stop running or require immediate attention.\n",
    "Usage: Typically reserved for fatal errors in the system.\n",
    "Example:'''\n",
    "logging.critical(\"A critical error occurred, system failure!\")\n",
    "\n",
    "'''2. ERROR (Level 40)\n",
    "Description: Indicates a serious problem that prevented a function or task from being carried out but doesn’t require immediate attention.\n",
    "Usage: Used for error messages that report issues that may affect program execution but don't cause an immediate crash.\n",
    "Example:'''\n",
    "logging.error(\"An error occurred while opening the file.\")\n",
    "\n",
    "'''3. WARNING (Level 30)\n",
    "Description: Used for warnings that indicate something unexpected happened, but it didn’t cause a failure. It’s often used to inform the user about potential issues or things that could lead to problems.\n",
    "Usage: Suitable for scenarios where the program can still run, but something is unusual or might need attention.\n",
    "Example:'''\n",
    "logging.warning(\"The configuration file is missing, using defaults.\")\n",
    "\n",
    "'''4. INFO (Level 20)\n",
    "Description: Used to log general information about the program’s execution. These messages are typically used to show the program's normal operation, such as status updates or milestones.\n",
    "Usage: Ideal for conveying information that is helpful for understanding what the program is doing but is not an error or warning.\n",
    "Example:'''\n",
    "logging.info(\"User successfully logged in.\")\n",
    "\n",
    "'''5. DEBUG (Level 10)\n",
    "Description: The lowest logging level, used for detailed information, typically useful for diagnosing issues. These messages are usually disabled in production because they are too verbose.\n",
    "Usage: Mostly used during development and troubleshooting to track detailed internal workings.'''\n",
    "logging.debug(\"Variable x has value 42.\")\n"
   ]
  },
  {
   "cell_type": "code",
   "execution_count": 77,
   "id": "158c599e-edfa-4a26-8a10-ec8a30eafda5",
   "metadata": {},
   "outputs": [
    {
     "name": "stdout",
     "output_type": "stream",
     "text": [
      "Worker process finished\n"
     ]
    }
   ],
   "source": [
    "# 18]  What is the difference between os.fork() and multiprocessing in Python?\n",
    "'''he key difference between os.fork() and multiprocessing in Python lies in how they handle the creation of new processes and their usage in parallelism. Both are used to create multiple processes, but they differ in their implementation, platform support, and functionality.\n",
    "Here's a breakdown of the differences:\n",
    "1. os.fork():\n",
    "os.fork() is a low-level function available in Python's os module that is primarily used for process creation. It is used to create a new child process by duplicating the calling (parent) process.\n",
    "Key Characteristics:\n",
    "- Platform Dependency:\n",
    "os.fork() is available only on Unix-based systems (Linux, macOS, etc.). It does not work on Windows, as Windows doesn't support fork() system calls natively.\n",
    "- Process Creation:\n",
    "When os.fork() is called, it creates a new child process that is a copy of the parent process, but with a different process ID.\n",
    "The child process starts execution at the point where os.fork() is called, but it can be differentiated from the parent process by the return value:\n",
    "In the parent: os.fork() returns the process ID of the child.\n",
    "In the child: os.fork() returns 0.\n",
    "- Shared Memory:\n",
    "Both the parent and child processes share the same memory space at the time of creation. However, due to copy-on-write behavior, changes to memory made by one process do not affect the other process after the fork.\n",
    "- Low-Level Control:\n",
    "os.fork() provides low-level control over processes and is more flexible, but it requires the developer to handle the creation and management of processes manually (e.g., managing resources, inter-process communication, etc.).\n",
    "- Usage:\n",
    "Typically used for custom process creation in more advanced or low-level scenarios where you need to manage multiple processes directly.\n",
    "\n",
    "2. multiprocessing Module:\n",
    "The multiprocessing module is a higher-level Python module for creating and managing processes. It provides a more convenient and portable way to create parallel programs in Python.\n",
    "Key Characteristics:\n",
    "- Cross-Platform:\n",
    "Unlike os.fork(), multiprocessing works on both Unix and Windows platforms. It abstracts the underlying differences in process creation between operating systems.\n",
    "- Process Creation:\n",
    "The multiprocessing module allows you to create processes using the Process class, which is cross-platform and more flexible.\n",
    "- Memory and Communication:\n",
    "Each process created with multiprocessing runs in its own memory space (separate from the parent). Communication between processes can be done through mechanisms like Queues, Pipes, and Shared Memory.\n",
    "- Higher-Level API:\n",
    "multiprocessing provides a higher-level API that includes:\n",
    "Pool: A pool of worker processes to parallelize tasks.\n",
    "Queue/Pipe: For inter-process communication.\n",
    "Managers: For sharing data between processes.\n",
    "Lock/Value/Array: For synchronizing access to shared resources.\n",
    "- Process Management:\n",
    "The multiprocessing module handles the creation, management, and cleanup of processes for you, so it’s easier to use than os.fork(), especially for parallelizing workloads.\n",
    "- Usage:\n",
    "Typically used in parallel programming, especially when you want to easily run tasks concurrently on multiple processors or cores.\n",
    "Example:'''\n",
    "\n",
    "from multiprocessing import Process\n",
    "\n",
    "def worker():\n",
    "    print(\"Worker process started\")\n",
    "\n",
    "if __name__ == \"__main__\":\n",
    "    process = Process(target=worker)\n",
    "    process.start()\n",
    "    process.join()\n",
    "    print(\"Worker process finished\")\n",
    "\n"
   ]
  },
  {
   "cell_type": "code",
   "execution_count": null,
   "id": "af34f299-06f1-4261-b318-bcc69c6990a6",
   "metadata": {},
   "outputs": [],
   "source": [
    "# 19]  What is the importance of closing a file in Python?\n",
    "'''Closing a file in Python is an important practice for the following reasons:\n",
    "1. Resource Management\n",
    "Releasing System Resources: When you open a file, the operating system allocates system resources (like memory and file handles) to manage that file. If a file is not closed properly, these resources might not be freed, leading to potential resource leaks.\n",
    "File Handles Limit: Most operating systems have a limit on the number of files that can be open simultaneously. Not closing files when you're done with them could lead to a \"file handle\" exhaustion, making it impossible to open new files until some are closed.\n",
    "2. Ensuring Data is Written to Disk\n",
    "Flush Data: When you write to a file, the data is often buffered in memory to optimize performance. Calling file.close() ensures that any data still in the buffer is written to the file, preventing data loss.\n",
    "Finalizing Changes: In some cases, a file might not be completely saved unless it is explicitly closed. For instance, some file systems may require that you explicitly close a file to ensure that all changes are flushed from the memory buffer to the disk.\n",
    "3. Preventing Data Corruption\n",
    "If a file is not closed properly (e.g., due to a crash or unexpected termination), it could result in corruption or inconsistent data in the file. Closing a file ensures that any changes are properly committed to the file and the file is not left in a partially written state.\n",
    "4. Making the File Available to Other Programs\n",
    "After you open a file, other programs or processes might not be able to access or modify the file until it is closed, especially in cases where the file is locked during access. Closing the file properly allows other applications or processes to access the file once your program is done with it.\n",
    "5. Avoiding Memory Leaks\n",
    "Files, like other resources, consume memory. If you keep files open unnecessarily, you could run into memory management issues, especially if you open a large number of files at once.'''"
   ]
  },
  {
   "cell_type": "code",
   "execution_count": null,
   "id": "0ac9d5f5-b4ba-4da9-99d5-16c506997a75",
   "metadata": {},
   "outputs": [],
   "source": [
    "# 20]  What is the difference between file.read() and file.readline() in Python?\n",
    "'''1. file.read()\n",
    "- Reads the Entire File: The read() method reads the entire content of the file as a single string.\n",
    "- Usage: It is useful when you want to load the entire file into memory at once, typically for smaller files or when you need to process all the contents at once.\n",
    "- Returns: It returns the entire file content as a string.\n",
    "- Parameter: You can specify the number of bytes/characters to read by passing an integer to read(size). If no size is specified, it reads the entire file.\n",
    "- End of File (EOF): Once the file's end is reached, it returns an empty string ('').\n",
    "\n",
    "2. file.readline()\n",
    "- Reads One Line at a Time: The readline() method reads one line from the file at a time.\n",
    "- Usage: It is useful when you want to process the file line by line, especially for large files, to avoid loading the entire file into memory at once.\n",
    "- Returns: It returns a single line from the file as a string, including the newline character (\\n) at the end of each line. If the end of the file is reached, it returns an empty string ('').\n",
    "- EOF Behavior: When the end of the file is reached, readline() returns an empty string ('').'''"
   ]
  },
  {
   "cell_type": "code",
   "execution_count": 87,
   "id": "84ccf69b-d398-435a-a1ef-d7c4f7b14704",
   "metadata": {},
   "outputs": [
    {
     "name": "stderr",
     "output_type": "stream",
     "text": [
      "INFO:root:This is an info message.\n",
      "WARNING:root:This is a warning message.\n",
      "ERROR:root:This is an error message.\n",
      "CRITICAL:root:This is a critical message.\n"
     ]
    }
   ],
   "source": [
    "# 21] What is the logging module in Python used for?\n",
    "'''The logging module in Python is used to track and record events, messages, and errors that occur during the execution of a program. It provides a flexible and robust way to log messages at different severity levels (e.g., debug, info, warning, error, critical), which can be used for debugging, monitoring, auditing, and troubleshooting applications.\n",
    "Here’s a detailed overview of its usage:\n",
    "Key Features of the logging Module:\n",
    "Severity Levels: The logging module supports several levels of logging, which allow you to specify the importance or severity of the messages being logged. The standard levels, listed from the most to least severe, are:\n",
    "\n",
    "CRITICAL (50)\n",
    "ERROR (40)\n",
    "WARNING (30)\n",
    "INFO (20)\n",
    "DEBUG (10)\n",
    "NOTSET (0)\n",
    "These levels help control which messages get recorded based on the configured logging level.\n",
    "\n",
    "Log Handlers: The logging module supports various log handlers to determine where the log messages are written:\n",
    "StreamHandler: Writes log messages to the console or other output streams.\n",
    "FileHandler: Writes log messages to a file.\n",
    "RotatingFileHandler: Writes logs to a file and rotates the logs based on a specified size or time.\n",
    "SMTPHandler: Sends log messages via email.\n",
    "SysLogHandler: Sends logs to a remote syslog server.\n",
    "\n",
    "Log Format: You can customize the format of log messages (e.g., including timestamp, log level, message, etc.) using a format string. This helps structure the log output to be more useful and readable.\n",
    "\n",
    "Loggers: A logger is used to generate log messages. You can create a logger object using logging.getLogger() and configure it to handle messages of different severity levels.\n",
    "\n",
    "Exception Logging: The logging module provides a way to log exceptions (including stack traces) using the exception() method, which is particularly useful for debugging.'''\n",
    "import logging\n",
    "\n",
    "# Set up basic configuration\n",
    "logging.basicConfig(level=logging.DEBUG, format='%(asctime)s - %(levelname)s - %(message)s')\n",
    "\n",
    "# Log messages with different severity levels\n",
    "logging.debug(\"This is a debug message.\")\n",
    "logging.info(\"This is an info message.\")\n",
    "logging.warning(\"This is a warning message.\")\n",
    "logging.error(\"This is an error message.\")\n",
    "logging.critical(\"This is a critical message.\")\n"
   ]
  },
  {
   "cell_type": "code",
   "execution_count": null,
   "id": "f430ce42-8fa0-41a7-89f0-94ec63ee89cf",
   "metadata": {},
   "outputs": [],
   "source": [
    "# 22] What is the os module in Python used for in file handling?\n",
    "'''The os module in Python provides a way to interact with the operating system, allowing you to perform a wide range of tasks related to file and directory manipulation. It is particularly useful in file handling for tasks such as working with file paths, creating, removing, and renaming files or directories, checking file status, and more. Here are the main functionalities of the os module related to file handling:\n",
    "Key File Handling Functions in the os Module:\n",
    "os.rename():\n",
    "Purpose: Renames a file or directory.\n",
    "Syntax: os.rename(src, dst)\n",
    "src: The current name (path) of the file/directory.\n",
    "dst: The new name (path) of the file/directory.\n",
    "\n",
    "os.remove():\n",
    "Purpose: Deletes a file.\n",
    "Syntax: os.remove(path)\n",
    "path: The path of the file to be removed.\n",
    "\n",
    "os.rmdir():\n",
    "Purpose: Removes an empty directory.\n",
    "Syntax: os.rmdir(path)\n",
    "path: The directory to be removed.\n",
    "\n",
    "os.mkdir():\n",
    "Purpose: Creates a new directory.\n",
    "Syntax: os.mkdir(path)\n",
    "path: The name of the directory to create.\n",
    "\n",
    "os.makedirs():\n",
    "Purpose: Creates a directory and any intermediate directories if they do not exist.\n",
    "Syntax: os.makedirs(path)\n",
    "path: The directory path to create.\n",
    "\n",
    "os.path.exists():\n",
    "Purpose: Checks whether a given path (file or directory) exists.\n",
    "Syntax: os.path.exists(path)\n",
    "path: The file or directory path to check.\n",
    "Returns: True if the path exists, otherwise False.\n",
    "\n",
    "os.path.isfile():\n",
    "Purpose: Checks if a given path refers to a file (not a directory).\n",
    "Syntax: os.path.isfile(path)\n",
    "path: The path to check.\n",
    "Returns: True if the path is a file, otherwise False.\n",
    "\n",
    "os.path.isdir():\n",
    "Purpose: Checks if a given path refers to a directory (not a file).\n",
    "Syntax: os.path.isdir(path)\n",
    "path: The path to check.\n",
    "Returns: True if the path is a directory, otherwise False.\n",
    "\n",
    "os.path.join():\n",
    "Purpose: Joins multiple path components into a single path, taking care of the operating system's path separator (e.g., / on Linux and \\ on Windows).\n",
    "Syntax: os.path.join(path1, path2, ...)\n",
    "\n",
    "os.path.abspath():\n",
    "Purpose: Returns the absolute path of a given file or directory.\n",
    "Syntax: os.path.abspath(path)\n",
    "\n",
    "os.path.getsize():\n",
    "Purpose: Returns the size of a file in bytes.\n",
    "Syntax: os.path.getsize(path)\n",
    "\n",
    "The os module in Python is a powerful tool for file and directory manipulation, providing a range of functions for interacting with the filesystem, checking file statuses, creating and removing files, and handling paths in a cross-platform manner. Whether you're writing simple file handling scripts or managing more complex filesystem tasks, the os module is an essential part of Python’s standard library for these operations.'''\n"
   ]
  },
  {
   "cell_type": "code",
   "execution_count": null,
   "id": "366b3a28-bc1e-41fd-aa71-9584088da568",
   "metadata": {},
   "outputs": [],
   "source": [
    "# 23] What are the challenges associated with memory management in Python?\n",
    "'''Memory management in Python, like in many other programming languages, involves allocating, using, and releasing memory effectively. While Python handles many aspects of memory management automatically (e.g., garbage collection), there are still several challenges associated with it that developers need to be aware of. Here are some of the key challenges:\n",
    "\n",
    "1. Automatic Memory Management and Garbage Collection:\n",
    "Challenge: While Python uses automatic memory management through reference counting and garbage collection (GC), it is not foolproof and can lead to inefficiencies or memory leaks in some situations.\n",
    "Reference Counting: Python primarily uses reference counting to manage memory. Every object in Python has a reference count, which is incremented when a new reference to the object is created and decremented when a reference is deleted. When the reference count drops to zero, the object is destroyed, and memory is reclaimed.\n",
    "Circular References: Reference counting alone cannot handle circular references (where two or more objects reference each other, creating a cycle). Although Python’s garbage collector can detect and break cycles, it might not always work as efficiently as expected, leading to memory leaks.\n",
    "Challenge: Handling circular references and ensuring that objects are properly cleaned up can be tricky, especially in long-running applications like servers or applications with complex data structures.\n",
    "2. Memory Leaks:\n",
    "Challenge: A memory leak occurs when a program consumes memory but fails to release it back to the operating system. Even though Python’s garbage collector is designed to detect and remove unused objects, there are scenarios where memory leaks can still occur, such as:\n",
    "Global Variables: Objects referenced by global variables may not be garbage collected until the program terminates, leading to memory bloat.\n",
    "Unclosed Resources: Not closing files, network connections, or database cursors properly can cause memory leaks, as these resources may hold onto memory even after they're no longer needed.\n",
    "Third-Party Libraries: Some third-party libraries may have bugs or fail to clean up resources correctly, causing memory leaks that are hard to track.\n",
    "3. High Memory Consumption with Large Data Structures:\n",
    "Challenge: Python’s data structures, such as lists, dictionaries, and sets, can be memory-intensive, especially when handling large datasets. Python’s dynamic typing and internal object representation contribute to higher memory usage compared to lower-level languages like C.\n",
    "For example, a list in Python not only holds the references to the objects but also stores additional metadata for the list itself, which increases the memory overhead.\n",
    "Example: Storing large datasets in memory (e.g., for machine learning or data processing) might result in high memory consumption, potentially causing programs to crash or slow down.\n",
    "4. Memory Fragmentation:\n",
    "Challenge: Over time, as objects are created and destroyed, memory can become fragmented, leading to inefficient memory usage. This issue is often less apparent in Python since it’s managed by the interpreter, but it can still impact performance and memory consumption in long-running applications.\n",
    "Fragmentation: This happens when memory is allocated and deallocated in small chunks over time, leading to unused gaps in memory, which might not be reused effectively.\n",
    "5. Limited Control Over Memory Allocation:\n",
    "Challenge: Unlike languages like C or C++, Python provides very limited control over memory allocation and deallocation. Developers do not have direct access to the underlying memory model, making it harder to fine-tune memory usage in certain cases.\n",
    "This can be problematic for performance-sensitive applications where developers might need to optimize memory usage or manage large objects manually.\n",
    "Example: If a developer needs to manage memory for a large array or matrix, Python’s high-level abstractions may not allow for as much control or fine-tuning as languages with manual memory management.\n",
    "6. Managing Object Lifetime:\n",
    "Challenge: Python’s garbage collector automatically handles the deallocation of objects, but developers still need to be mindful of object lifetimes. Objects that are no longer needed but are still referenced will not be garbage collected, which can lead to excessive memory usage.\n",
    "Example: Keeping objects alive unintentionally, such as by storing them in global variables or keeping references in data structures, can prevent their memory from being freed.\n",
    "7. Large Object Creation and Deletion:\n",
    "Challenge: Creating and deleting large objects repeatedly can lead to significant performance degradation. Python's memory manager may struggle to efficiently handle the allocation and deallocation of large objects, which can impact the overall memory performance of the program.\n",
    "Example: If a program frequently creates and deletes large lists or arrays (especially within loops), it may cause additional overhead due to frequent memory allocations and garbage collection cycles.\n",
    "8. Lack of Manual Memory Control:\n",
    "Challenge: In languages like C, developers can use tools like malloc and free to control when memory is allocated and deallocated. In Python, this control is abstracted away, making it more difficult to manage memory manually, which can be both a benefit and a limitation, depending on the use case.\n",
    "For performance-sensitive applications, this lack of fine-grained control over memory allocation can be a challenge, as Python will rely on its internal memory manager and garbage collector to make decisions about when to free memory.\n",
    "9. Memory Usage of Python's Built-in Objects:\n",
    "Challenge: The memory usage of Python's built-in objects, like lists, dictionaries, and sets, can sometimes be inefficient when compared to other programming languages. These objects store additional metadata (like size, capacity, and pointers to elements), which can result in significant memory overhead.\n",
    "For example, a Python list holds references to the objects it contains, along with extra internal data structures to manage the list's size and capacity, causing it to use more memory than a simple array in languages like C or Java.\n",
    "10. Python's Global Interpreter Lock (GIL):\n",
    "Challenge: Python’s Global Interpreter Lock (GIL) can be a limiting factor in multi-threaded applications, as it prevents multiple threads from executing Python bytecodes simultaneously in the same process. This can lead to inefficient memory usage in CPU-bound tasks, especially when dealing with large data or complex computations.\n",
    "While this doesn’t directly affect memory allocation, the GIL can impact how memory is managed when multiple threads are involved, especially for applications that require high parallelism.'''"
   ]
  },
  {
   "cell_type": "code",
   "execution_count": 127,
   "id": "5a8dd6ee-bff5-4480-b905-5255b76a4fd2",
   "metadata": {},
   "outputs": [
    {
     "name": "stdin",
     "output_type": "stream",
     "text": [
      "Enter your salary 1000\n"
     ]
    },
    {
     "name": "stdout",
     "output_type": "stream",
     "text": [
      "Salary is valid\n"
     ]
    }
   ],
   "source": [
    "# 24]  How do you raise an exception manually in Python?\n",
    "'''In Python, you can manually raise an exception using the raise keyword. This allows you to trigger an exception in your program, which can then be caught and handled by try and except blocks, or propagate up the call stack if unhandled.\n",
    "Syntax for Raising an Exception:\n",
    "raise ExceptionType(\"Error message\")'''\n",
    "#Example \n",
    "class ValidateSalary(Exception):\n",
    "    def __init__(self,msg):\n",
    "        self.msg = msg\n",
    "\n",
    "def validate_salary(salary):\n",
    "    if salary <=0:\n",
    "        raise ValidateSalary(\"Negative salary is not possible\")\n",
    "    elif salary >=10000000:\n",
    "        raise ValidateSalary(\"Salary is unexpected\")\n",
    "    else:\n",
    "        print(\"Salary is valid\")\n",
    "\n",
    "try:\n",
    "    salary = int(input(\"Enter your salary\"))\n",
    "    validate_salary(salary)\n",
    "    \n",
    "except ValidateSalary as e:\n",
    "    print(e)\n"
   ]
  },
  {
   "cell_type": "code",
   "execution_count": null,
   "id": "3ea66cd8-4791-48c2-9466-1bce83920240",
   "metadata": {},
   "outputs": [],
   "source": [
    "# 25] Why is it important to use multithreading in certain applications?\n",
    "'''Multithreading is important in certain applications because it allows a program to perform multiple tasks concurrently within the same process. This can lead to significant improvements in performance, responsiveness, and resource utilization, especially for tasks that are I/O-bound or require parallel execution. Here are some key reasons why multithreading is crucial in certain applications:\n",
    "\n",
    "1. Improved Performance in I/O-Bound Applications\n",
    "Explanation: In I/O-bound operations (such as reading from files, network communication, or database queries), the program spends a lot of time waiting for external resources, during which the CPU is idle. Multithreading allows the program to perform other tasks while waiting for I/O operations to complete, improving overall throughput and responsiveness.\n",
    "Example: A web scraper can download multiple web pages concurrently, instead of downloading each one sequentially, thus speeding up the entire process.\n",
    "2. Concurrency and Parallelism\n",
    "Explanation: Multithreading allows multiple threads to run concurrently, which can be beneficial for tasks that can be split into independent sub-tasks. While Python's Global Interpreter Lock (GIL) limits true parallelism for CPU-bound tasks, multithreading can still provide concurrency by allowing tasks like network communication or disk access to happen in parallel.\n",
    "Example: In a server application, multithreading enables the server to handle multiple client requests simultaneously, without each request blocking others.\n",
    "3. Improved Application Responsiveness\n",
    "Explanation: In applications with a graphical user interface (GUI) or real-time systems, multithreading is crucial for maintaining responsiveness. A long-running task (like downloading a file, processing data, etc.) can be handled in a separate thread, leaving the main thread free to update the GUI or handle user interactions.\n",
    "Example: In a desktop application, a separate thread can be used to perform calculations or fetch data from the network, while the main thread continues to handle user input and UI updates, preventing the application from freezing.\n",
    "4. Maximizing CPU Utilization for Multi-Core Systems\n",
    "Explanation: On multi-core processors, multiple threads can run on separate cores, utilizing the full potential of the system. This is particularly useful for CPU-bound tasks (tasks that require intensive computation), as it allows the program to make use of available cores to process data in parallel.\n",
    "Example: In scientific computing or data processing applications, multithreading can divide the workload among multiple cores to speed up computations.\n",
    "5. Simplifying Complex Programs\n",
    "Explanation: For certain applications, multithreading allows you to model complex programs in a simpler way by breaking them down into smaller, more manageable tasks that can run concurrently. This can make the code cleaner and more logical.\n",
    "Example: In a simulation where multiple agents interact, each agent can be handled by a separate thread, making the code easier to write and understand.\n",
    "6. Real-Time Applications\n",
    "Explanation: In real-time systems, multithreading allows different parts of the system to run concurrently and meet strict timing constraints. Tasks that need to be performed within a specific timeframe (like controlling hardware or processing sensor data) can be assigned to dedicated threads to ensure they meet real-time deadlines.\n",
    "Example: In embedded systems or robotics, separate threads may handle sensor data acquisition, processing, and control of hardware devices in parallel.\n",
    "7. Asynchronous Task Handling\n",
    "Explanation: Multithreading is useful in scenarios where multiple tasks must be done at once without waiting for each other to finish. It helps in situations where tasks don't need to wait for others to complete, which improves overall efficiency and application flow.\n",
    "Example: A video streaming application may use a separate thread to buffer data while another thread handles playback, ensuring smooth and uninterrupted streaming.\n",
    "8. Simplifies Complex User Interactions\n",
    "Explanation: Multithreading makes it easier to handle complex user interactions, particularly in applications that require concurrent activities. For instance, in a game, one thread can handle user input while another thread handles the game logic and rendering.\n",
    "Example: In a multiplayer game, one thread can handle network communication, while another handles user input and another deals with game physics.'''"
   ]
  },
  {
   "cell_type": "code",
   "execution_count": null,
   "id": "4e393a01-4298-4bbb-8f1d-6fbcf2d63e08",
   "metadata": {},
   "outputs": [],
   "source": [
    "#PRACTICAL QUESTIONS\n"
   ]
  },
  {
   "cell_type": "code",
   "execution_count": 139,
   "id": "c0da41d6-14b7-4935-b352-f760140cc715",
   "metadata": {},
   "outputs": [
    {
     "name": "stdout",
     "output_type": "stream",
     "text": [
      "String written to the file successfully.\n"
     ]
    }
   ],
   "source": [
    "# 1] How can you open a file for writing in Python and write a string to it?\n",
    "'''Breakdown:\n",
    "- open('filename.txt', 'w'): Opens the file filename.txt in write mode ('w'). If the file already exists, it will be overwritten; if it doesn't exist, a new file will be created.\n",
    "- with statement: The with statement is used for better file handling. It ensures that the file is properly closed when you're done with it, even if an error occurs within the block.\n",
    "- file.write('Your string goes here'): Writes the string 'Your string goes here' to the file.'''\n",
    "# Writing a string to a file\n",
    "with open('example.txt', 'w') as file:\n",
    "    file.write('Hello, world! This is a string written to the file.\\n')\n",
    "    file.write('I am Sahil Sutar.\\n')\n",
    "    file.write('I am doing Data Science Course.\\n')\n",
    "    file.write('I am Fresher.\\n')\n",
    "print(\"String written to the file successfully.\")\n"
   ]
  },
  {
   "cell_type": "code",
   "execution_count": 141,
   "id": "df702d07-5611-46c4-ae82-faa96dfc60a6",
   "metadata": {},
   "outputs": [
    {
     "name": "stdout",
     "output_type": "stream",
     "text": [
      "Hello, world! This is a string written to the file.\n",
      "I am Sahil Sutar.\n",
      "I am doing Data Science Course.\n",
      "I am Fresher.\n"
     ]
    }
   ],
   "source": [
    "# 2] Write a Python program to read the contents of a file and print each line.\n",
    "# Open the file in read mode\n",
    "with open('example.txt', 'r') as file:\n",
    "    # Read and print each line from the file\n",
    "    for line in file:\n",
    "        print(line, end='')  # 'end' is used to avoid adding extra newline characters\n"
   ]
  },
  {
   "cell_type": "code",
   "execution_count": 143,
   "id": "3f2b9d93-bb51-489a-882a-cc480f328b98",
   "metadata": {},
   "outputs": [
    {
     "name": "stdout",
     "output_type": "stream",
     "text": [
      "Error: The file 'example1.txt' does not exist.\n"
     ]
    }
   ],
   "source": [
    "# 3] How would you handle a case where the file doesn't exist while trying to open it for reading?\n",
    "#To handle the case where a file doesn't exist while trying to open it for reading, you can use a try-except block. This will allow you to catch the FileNotFoundError and handle it gracefully, such as by printing an error message or taking some alternative action.\n",
    "try:\n",
    "    # Try to open the file in read mode\n",
    "    with open('example1.txt', 'r') as file:\n",
    "        # Read and print each line from the file\n",
    "        for line in file:\n",
    "            print(line, end='')  # 'end' is used to avoid adding extra newline characters\n",
    "\n",
    "except FileNotFoundError:\n",
    "    print(\"Error: The file 'example1.txt' does not exist.\")\n"
   ]
  },
  {
   "cell_type": "code",
   "execution_count": 147,
   "id": "18902c2b-a77c-4ef8-ae4b-976a08edf1ba",
   "metadata": {},
   "outputs": [
    {
     "name": "stdout",
     "output_type": "stream",
     "text": [
      "Content has been copied from example.txt to output_file.txt\n"
     ]
    }
   ],
   "source": [
    "# 4] Write a Python script that reads from one file and writes its content to another file.\n",
    "# Specify the names of the input and output files\n",
    "input_filename = 'example.txt'\n",
    "output_filename = 'output_file.txt'\n",
    "\n",
    "try:\n",
    "    # Open the input file for reading\n",
    "    with open(input_filename, 'r') as infile:\n",
    "        # Open the output file for writing\n",
    "        with open(output_filename, 'w') as outfile:\n",
    "            # Read the content from the input file and write it to the output file\n",
    "            content = infile.read()  # Read all content from the input file\n",
    "            outfile.write(content)   # Write the content to the output file\n",
    "    print(f\"Content has been copied from {input_filename} to {output_filename}\")\n",
    "\n",
    "except FileNotFoundError:\n",
    "    print(f\"Error: The file '{input_filename}' does not exist.\")\n",
    "except IOError as e:\n",
    "    print(f\"Error: {e}\")\n",
    "\n"
   ]
  },
  {
   "cell_type": "code",
   "execution_count": 153,
   "id": "8c6bde60-bbc5-4216-bc36-8cabaf118ab8",
   "metadata": {},
   "outputs": [
    {
     "name": "stdout",
     "output_type": "stream",
     "text": [
      "The error is, division by zero\n"
     ]
    }
   ],
   "source": [
    "# 5] How would you catch and handle division by zero error in Python?\n",
    "#In Python, you can catch and handle a division by zero error using a try-except block. The specific exception raised when division by zero occurs is ZeroDivisionError.\n",
    "#Here’s how you can catch and handle the error:\n",
    "try:\n",
    "    # Attempt division by zero\n",
    "    numerator = 10\n",
    "    denominator = 0\n",
    "    result = numerator / denominator\n",
    "    print(f\"Result: {result}\")\n",
    "except ZeroDivisionError as e:\n",
    "    print(\"The error is,\",e)\n"
   ]
  },
  {
   "cell_type": "code",
   "execution_count": 175,
   "id": "1510b957-20f1-4b57-83a8-d9086f33fd53",
   "metadata": {},
   "outputs": [
    {
     "name": "stderr",
     "output_type": "stream",
     "text": [
      "ERROR:root:Division by zero error: division by zero\n",
      "2024-12-05 12:48:20,438 - ERROR - Division by zero error: division by zero\n",
      "2024-12-05 12:48:20,438 - ERROR - Division by zero error: division by zero\n"
     ]
    },
    {
     "name": "stdout",
     "output_type": "stream",
     "text": [
      "Error: Cannot divide by zero.\n",
      "Division failed.\n"
     ]
    }
   ],
   "source": [
    "# 6]  Write a Python program that logs an error message to a log file when a division by zero exception occurs.\n",
    "'''Explanation:\n",
    "Logging Configuration: The logging.basicConfig() method sets up the log file, log level, and format for the log messages.\n",
    "Divide Function: The divide function tries to perform the division and catches the ZeroDivisionError exception. When the error occurs, it logs an error message to the log file.\n",
    "Example Usage: When you call the divide function with b = 0, it triggers a division by zero and logs the error in error_log.txt.'''\n",
    "import logging\n",
    "# Set up a custom stream handler to display in the notebook\n",
    "logger = logging.getLogger()\n",
    "logger.setLevel(logging.DEBUG)\n",
    "\n",
    "# Create a stream handler to display log messages in the notebook\n",
    "console_handler = logging.StreamHandler()\n",
    "console_handler.setLevel(logging.DEBUG)\n",
    "\n",
    "# Define the format\n",
    "formatter = logging.Formatter('%(asctime)s - %(levelname)s - %(message)s')\n",
    "console_handler.setFormatter(formatter)\n",
    "\n",
    "# Add the handler to the logger\n",
    "logger.addHandler(console_handler)\n",
    "\n",
    "\n",
    "def safe_divide(numerator, denominator):\n",
    "    try:\n",
    "        result = numerator / denominator\n",
    "        return result\n",
    "    except ZeroDivisionError as e:\n",
    "        # Log the error message to the log file\n",
    "        logging.error(f\"Division by zero error: {e}\")\n",
    "        print(\"Error: Cannot divide by zero.\")\n",
    "        return None\n",
    "\n",
    "# Example usage\n",
    "numerator = 10\n",
    "denominator = 0\n",
    "result = safe_divide(numerator, denominator)\n",
    "\n",
    "if result is not None:\n",
    "    print(f\"Result: {result}\")\n",
    "else:\n",
    "    print(\"Division failed.\")\n"
   ]
  },
  {
   "cell_type": "code",
   "execution_count": 173,
   "id": "389861d8-c101-4563-9d7c-8d3f09d42837",
   "metadata": {},
   "outputs": [
    {
     "name": "stderr",
     "output_type": "stream",
     "text": [
      "DEBUG:root:This is a DEBUG message\n",
      "2024-12-05 12:47:31,963 - DEBUG - This is a DEBUG message\n",
      "INFO:root:This is an INFO message\n",
      "2024-12-05 12:47:31,965 - INFO - This is an INFO message\n",
      "WARNING:root:This is a WARNING message\n",
      "2024-12-05 12:47:31,968 - WARNING - This is a WARNING message\n",
      "ERROR:root:This is an ERROR message\n",
      "2024-12-05 12:47:31,971 - ERROR - This is an ERROR message\n",
      "CRITICAL:root:This is a CRITICAL message\n",
      "2024-12-05 12:47:31,975 - CRITICAL - This is a CRITICAL message\n"
     ]
    }
   ],
   "source": [
    "# 7]  How do you log information at different levels (INFO, ERROR, WARNING) in Python using the logging module?\n",
    "import logging\n",
    "\n",
    "# Set up a custom stream handler to display in the notebook\n",
    "logger = logging.getLogger()\n",
    "logger.setLevel(logging.DEBUG)\n",
    "\n",
    "# Create a stream handler to display log messages in the notebook\n",
    "console_handler = logging.StreamHandler()\n",
    "console_handler.setLevel(logging.DEBUG)\n",
    "\n",
    "# Define the format\n",
    "formatter = logging.Formatter('%(asctime)s - %(levelname)s - %(message)s')\n",
    "console_handler.setFormatter(formatter)\n",
    "\n",
    "# Add the handler to the logger\n",
    "logger.addHandler(console_handler)\n",
    "\n",
    "# Log messages at different levels\n",
    "logging.debug('This is a DEBUG message')   # Detailed information, useful for debugging\n",
    "logging.info('This is an INFO message')    # General program information\n",
    "logging.warning('This is a WARNING message')  # Something unexpected, but not an error\n",
    "logging.error('This is an ERROR message')    # Something went wrong, an error occurred\n",
    "logging.critical('This is a CRITICAL message')  # A very serious issue, program may fail\n"
   ]
  },
  {
   "cell_type": "code",
   "execution_count": 177,
   "id": "c49a0afc-91ab-41f9-95c3-7649c66d5066",
   "metadata": {},
   "outputs": [
    {
     "name": "stdout",
     "output_type": "stream",
     "text": [
      "Error: The file 'example2.txt' was not found.\n",
      "Execution of file opening is complete.\n"
     ]
    }
   ],
   "source": [
    "# 8]  Write a program to handle a file opening error using exception handling.\n",
    "def open_file(filename):\n",
    "    try:\n",
    "        # Try to open the file in read mode\n",
    "        with open(filename, 'r') as file:\n",
    "            content = file.read()\n",
    "            print(content)\n",
    "    except FileNotFoundError:\n",
    "        # Handle case where the file is not found\n",
    "        print(f\"Error: The file '{filename}' was not found.\")\n",
    "    except IOError as e:\n",
    "        # Handle other I/O errors\n",
    "        print(f\"Error: An IOError occurred. Details: {str(e)}\")\n",
    "    else:\n",
    "        # This block will execute if no exceptions are raised\n",
    "        print(f\"File '{filename}' opened successfully.\")\n",
    "    finally:\n",
    "        # This block will execute no matter what\n",
    "        print(\"Execution of file opening is complete.\")\n",
    "\n",
    "# Example usage\n",
    "filename = 'example2.txt'\n",
    "open_file(filename)\n"
   ]
  },
  {
   "cell_type": "code",
   "execution_count": 179,
   "id": "db71172c-eec3-432f-a160-1bd35699cc36",
   "metadata": {},
   "outputs": [
    {
     "name": "stdout",
     "output_type": "stream",
     "text": [
      "['Hello, world! This is a string written to the file.', 'I am Sahil Sutar.', 'I am doing Data Science Course.', 'I am Fresher.']\n"
     ]
    }
   ],
   "source": [
    "# 9] How can you read a file line by line and store its content in a list in Python?\n",
    "'''Explanation:\n",
    "Method 1: The for loop iterates through each line in the file, and strip() is used to remove the trailing newline characters (\\n) from each line before appending it to the list.\n",
    "Method 2: The readlines() method reads the entire file into a list where each line is an element. After that, we use a list comprehension with strip() to remove newlines from each line.'''\n",
    "def read_file_to_list(filename):\n",
    "    try:\n",
    "        with open(filename, 'r') as file:\n",
    "            lines = file.readlines()  # Reads all lines into a list\n",
    "            lines = [line.strip() for line in lines]  # Strip trailing newlines\n",
    "        return lines\n",
    "    except FileNotFoundError:\n",
    "        print(f\"Error: The file '{filename}' was not found.\")\n",
    "        return []\n",
    "    except IOError as e:\n",
    "        print(f\"Error: An IOError occurred. Details: {str(e)}\")\n",
    "        return []\n",
    "\n",
    "# Example usage\n",
    "filename = 'example.txt'\n",
    "lines = read_file_to_list(filename)\n",
    "print(lines)\n"
   ]
  },
  {
   "cell_type": "code",
   "execution_count": 181,
   "id": "03491be4-2f86-4b88-b92e-3612a1b60fd5",
   "metadata": {},
   "outputs": [
    {
     "name": "stdout",
     "output_type": "stream",
     "text": [
      "Data has been appended to the file.\n"
     ]
    }
   ],
   "source": [
    "# 10] How can you append data to an existing file in Python?\n",
    "'''In Python, you can append data to an existing file using the open() function with the mode 'a'. The 'a' mode stands for \"append\", meaning it opens the file for writing and adds new content at the end of the file without overwriting the existing data.\n",
    "Here's how you can do it:\n",
    "Explanation:\n",
    "Opening the file: The file is opened in append mode ('a'), which ensures that any data written to the file is added at the end, without removing the existing content.\n",
    "Writing the data: The write() method writes the string to the file. A newline character ('\\n') is added to ensure that the data appears on a new line.\n",
    "Error handling: If there's an error (e.g., if the file doesn't exist or there are permission issues), the program catches the IOError and displays an error message.'''\n",
    "\n",
    "def append_to_file(filename, data):\n",
    "    try:\n",
    "        # Open the file in append mode\n",
    "        with open(filename, 'a') as file:\n",
    "            file.write(data + '\\n')  # Append data followed by a newline\n",
    "        print(\"Data has been appended to the file.\")\n",
    "    except IOError as e:\n",
    "        print(f\"Error: An IOError occurred. Details: {str(e)}\")\n",
    "\n",
    "# Example usage\n",
    "filename = 'example.txt'\n",
    "data = \"This is a new line of text.\"\n",
    "append_to_file(filename, data)\n",
    "\n"
   ]
  },
  {
   "cell_type": "code",
   "execution_count": 183,
   "id": "e2cd2319-1c36-4c06-b8a1-ca2d2c0abeaf",
   "metadata": {},
   "outputs": [
    {
     "name": "stdout",
     "output_type": "stream",
     "text": [
      "Value for 'name': Sahil\n",
      "Successfully accessed the key 'name'.\n",
      "Execution complete.\n",
      "Error: The key 'gender' does not exist in the dictionary.\n",
      "Execution complete.\n"
     ]
    }
   ],
   "source": [
    "# 11] Write a Python program that uses a try-except block to handle an error when attempting to access a dictionary key that doesn't exist.\n",
    "'''Explanation:\n",
    "try block: The program tries to access the dictionary using the key provided.\n",
    "except KeyError: If the key is not found, Python raises a KeyError, and the program handles it by printing an error message.\n",
    "else block: This block is executed if no exception occurs, confirming that the key was successfully accessed.\n",
    "finally block: This block always executes, regardless of whether an exception occurred or not, and is used for cleanup or final messages.'''\n",
    "def access_dict_key(dictionary, key):\n",
    "    try:\n",
    "        # Try to access the dictionary key\n",
    "        value = dictionary[key]\n",
    "        print(f\"Value for '{key}': {value}\")\n",
    "    except KeyError:\n",
    "        # Handle the case where the key doesn't exist\n",
    "        print(f\"Error: The key '{key}' does not exist in the dictionary.\")\n",
    "    else:\n",
    "        # This block runs if no exception occurs\n",
    "        print(f\"Successfully accessed the key '{key}'.\")\n",
    "    finally:\n",
    "        # This block always runs\n",
    "        print(\"Execution complete.\")\n",
    "\n",
    "# Example usage\n",
    "my_dict = {'name': 'Sahil', 'age': 23, 'city': 'Mumbai'}\n",
    "\n",
    "# Accessing an existing key\n",
    "access_dict_key(my_dict, 'name')\n",
    "\n",
    "# Accessing a non-existent key\n",
    "access_dict_key(my_dict, 'gender')\n"
   ]
  },
  {
   "cell_type": "code",
   "execution_count": 185,
   "id": "4bc3f5a4-c9c2-42e2-952c-05d2dd4f03e5",
   "metadata": {},
   "outputs": [
    {
     "name": "stdout",
     "output_type": "stream",
     "text": [
      "Error: Division by zero is not allowed. division by zero\n",
      "Execution of the program is complete.\n",
      "Division result: 5.0\n",
      "Error: The file 'nonexistent_file.txt' was not found. [Errno 2] No such file or directory: 'nonexistent_file.txt'\n",
      "Execution of the program is complete.\n",
      "Division result: 5.0\n",
      "Error: The file 'existing_file.txt' was not found. [Errno 2] No such file or directory: 'existing_file.txt'\n",
      "Execution of the program is complete.\n"
     ]
    }
   ],
   "source": [
    "# 12] Write a program that demonstrates using multiple except blocks to handle different types of exceptions.\n",
    "'''Explanation:\n",
    "Try Block:\n",
    "\n",
    "The program attempts a division operation that may raise a ZeroDivisionError if b is zero.\n",
    "It also tries to open a file and read its contents, which may raise a FileNotFoundError if the file doesn't exist.\n",
    "Multiple Except Blocks:\n",
    "\n",
    "ZeroDivisionError: If a division by zero occurs, this block handles it and prints an appropriate message.\n",
    "FileNotFoundError: If the file doesn't exist, this block handles the exception and prints an error message.\n",
    "General Exception: This block catches any other unexpected errors that don't match the specific ones above, making the program more robust.\n",
    "Else Block:\n",
    "\n",
    "If no exceptions occur, the code inside the else block runs. This confirms that the operations completed successfully.\n",
    "Finally Block:\n",
    "\n",
    "This block runs no matter what, even if there was an exception. It's often used for cleanup or to display final messages.'''\n",
    "def demonstrate_multiple_exceptions(a, b, file_name):\n",
    "    try:\n",
    "        # Division operation that may raise ZeroDivisionError\n",
    "        result = a / b\n",
    "        print(f\"Division result: {result}\")\n",
    "\n",
    "        # File operation that may raise FileNotFoundError\n",
    "        with open(file_name, 'r') as file:\n",
    "            content = file.read()\n",
    "            print(f\"File content: {content}\")\n",
    "        \n",
    "    except ZeroDivisionError as e:\n",
    "        # Handle division by zero error\n",
    "        print(f\"Error: Division by zero is not allowed. {str(e)}\")\n",
    "        \n",
    "    except FileNotFoundError as e:\n",
    "        # Handle file not found error\n",
    "        print(f\"Error: The file '{file_name}' was not found. {str(e)}\")\n",
    "        \n",
    "    except Exception as e:\n",
    "        # Handle any other general exception\n",
    "        print(f\"An unexpected error occurred: {str(e)}\")\n",
    "        \n",
    "    else:\n",
    "        # This block is executed if no exception occurs\n",
    "        print(\"Operations completed successfully.\")\n",
    "        \n",
    "    finally:\n",
    "        # This block always executes\n",
    "        print(\"Execution of the program is complete.\")\n",
    "\n",
    "# Example usage\n",
    "demonstrate_multiple_exceptions(10, 0, 'nonexistent_file.txt')  # This will raise ZeroDivisionError\n",
    "demonstrate_multiple_exceptions(10, 2, 'nonexistent_file.txt')  # This will raise FileNotFoundError\n",
    "demonstrate_multiple_exceptions(10, 2, 'existing_file.txt')    # This assumes the file exists\n"
   ]
  },
  {
   "cell_type": "code",
   "execution_count": 187,
   "id": "81bbca3e-7ea6-4ddf-be93-9944fae048d8",
   "metadata": {},
   "outputs": [
    {
     "name": "stdout",
     "output_type": "stream",
     "text": [
      "File content:\n",
      "Hello, world! This is a string written to the file.\n",
      "I am Sahil Sutar.\n",
      "I am doing Data Science Course.\n",
      "I am Fresher.\n",
      "This is a new line of text.\n",
      "\n"
     ]
    }
   ],
   "source": [
    "# 13]  How would you check if a file exists before attempting to read it in Python?\n",
    "#To check if a file exists before attempting to read it in Python, you can use the os.path.exists() function from the os module or the Path.exists() method from the pathlib module. These functions allow you to verify if a file or directory exists before performing operations like reading from it.\n",
    "'''Explanation:\n",
    "os.path.exists(filename): Returns True if the file or directory exists, and False otherwise. If the file exists, you can proceed with opening and reading the file.\n",
    "File Reading: If the file exists, it is opened using open() in read mode ('r'), and its content is printed.\n",
    "Error Handling: If the file doesn't exist, an error message is printed.'''\n",
    "import os\n",
    "\n",
    "def read_file_if_exists(filename):\n",
    "    if os.path.exists(filename):\n",
    "        with open(filename, 'r') as file:\n",
    "            content = file.read()\n",
    "            print(f\"File content:\\n{content}\")\n",
    "    else:\n",
    "        print(f\"Error: The file '{filename}' does not exist.\")\n",
    "\n",
    "# Example usage\n",
    "filename = 'example.txt'\n",
    "read_file_if_exists(filename)\n"
   ]
  },
  {
   "cell_type": "code",
   "execution_count": 189,
   "id": "f5db86ab-d879-4ee5-8ec6-ba371f5bf9fe",
   "metadata": {},
   "outputs": [
    {
     "name": "stderr",
     "output_type": "stream",
     "text": [
      "INFO:root:Program started.\n",
      "2024-12-05 12:59:36,668 - INFO - Program started.\n",
      "2024-12-05 12:59:36,668 - INFO - Program started.\n",
      "INFO:root:This is an informational message.\n",
      "2024-12-05 12:59:36,673 - INFO - This is an informational message.\n",
      "2024-12-05 12:59:36,673 - INFO - This is an informational message.\n",
      "ERROR:root:Error occurred: division by zero\n",
      "2024-12-05 12:59:36,675 - ERROR - Error occurred: division by zero\n",
      "2024-12-05 12:59:36,675 - ERROR - Error occurred: division by zero\n",
      "INFO:root:Program finished.\n",
      "2024-12-05 12:59:36,678 - INFO - Program finished.\n",
      "2024-12-05 12:59:36,678 - INFO - Program finished.\n"
     ]
    }
   ],
   "source": [
    "# 14] Write a program that uses the logging module to log both informational and error messages.\n",
    "'''Explanation:\n",
    "logging.basicConfig(): This function sets up the basic configuration for logging.\n",
    "\n",
    "filename='app.log': Specifies that log messages will be written to a file named app.log. If this is omitted, logs will be output to the console by default.\n",
    "level=logging.DEBUG: This sets the logging level to DEBUG, which is the lowest level and will capture all messages (DEBUG, INFO, WARNING, ERROR, CRITICAL).\n",
    "format='%(asctime)s - %(levelname)s - %(message)s': This specifies the format for log messages, which includes the timestamp, log level, and the actual log message.\n",
    "Logging Methods:\n",
    "\n",
    "logging.info(): Logs an informational message that’s usually used to provide general information about the application's behavior.\n",
    "logging.error(): Logs an error message, typically used when something goes wrong, like an exception.\n",
    "Exception Handling: In the example_function, a ZeroDivisionError is intentionally raised, and the exception is caught by the except block, which logs the error using logging.error().\n",
    "\n",
    "Log Levels: The logging level is set to DEBUG, so all messages at the DEBUG level and higher (i.e., INFO, WARNING, ERROR, CRITICAL) will be logged.'''\n",
    "\n",
    "import logging\n",
    "\n",
    "# Configure the logging system\n",
    "logging.basicConfig(\n",
    "    filename='app.log',  # Log to a file called 'app.log'\n",
    "    level=logging.DEBUG,  # Log level set to DEBUG to capture all levels of logs\n",
    "    format='%(asctime)s - %(levelname)s - %(message)s'  # Log format including time, log level, and message\n",
    ")\n",
    "\n",
    "def example_function():\n",
    "    logging.info('This is an informational message.')  # Informational log\n",
    "    try:\n",
    "        # Simulate an error (e.g., division by zero)\n",
    "        result = 10 / 0\n",
    "    except ZeroDivisionError as e:\n",
    "        logging.error(f'Error occurred: {str(e)}')  # Error log\n",
    "\n",
    "# Example usage\n",
    "logging.info('Program started.')  # Log an info message when the program starts\n",
    "example_function()\n",
    "logging.info('Program finished.')  # Log an info message when the program finishes\n"
   ]
  },
  {
   "cell_type": "code",
   "execution_count": 191,
   "id": "e47ef573-c549-4ff8-83f9-bb4acc7f535f",
   "metadata": {},
   "outputs": [
    {
     "name": "stdout",
     "output_type": "stream",
     "text": [
      "File content:\n",
      "Hello, world! This is a string written to the file.\n",
      "I am Sahil Sutar.\n",
      "I am doing Data Science Course.\n",
      "I am Fresher.\n",
      "This is a new line of text.\n",
      "\n"
     ]
    }
   ],
   "source": [
    "# 15] Write a Python program that prints the content of a file and handles the case when the file is empty.\n",
    "'''Explanation:\n",
    "Opening the File: The open(filename, 'r') function opens the file in read mode.\n",
    "Reading Content: The file.read() method reads the entire content of the file as a string.\n",
    "Checking if the File is Empty: The if content: condition checks if the content of the file is non-empty. If the file is empty, content will be an empty string, and the program will print \"The file is empty.\"\n",
    "Handling FileNotFoundError: If the file does not exist, the program catches the FileNotFoundError and prints an error message.\n",
    "Handling Other I/O Errors: The except IOError block catches other I/O-related errors, such as permission issues, and prints the error message.'''\n",
    "def read_file_and_handle_empty(filename):\n",
    "    try:\n",
    "        with open(filename, 'r') as file:\n",
    "            content = file.read()\n",
    "            \n",
    "            if content:  # If the file is not empty\n",
    "                print(\"File content:\")\n",
    "                print(content)\n",
    "            else:  # If the file is empty\n",
    "                print(\"The file is empty.\")\n",
    "                \n",
    "    except FileNotFoundError:\n",
    "        print(f\"Error: The file '{filename}' was not found.\")\n",
    "    except IOError as e:\n",
    "        print(f\"Error: An I/O error occurred. Details: {str(e)}\")\n",
    "\n",
    "# Example usage\n",
    "filename = 'example.txt'  # Replace with your file path\n",
    "read_file_and_handle_empty(filename)\n"
   ]
  },
  {
   "cell_type": "code",
   "execution_count": 203,
   "id": "68001a91-fad4-4169-a82a-2d0a1c54c34e",
   "metadata": {},
   "outputs": [
    {
     "name": "stdout",
     "output_type": "stream",
     "text": [
      "Requirement already satisfied: memory-profiler in c:\\users\\sahil sutar\\anaconda3\\lib\\site-packages (0.61.0)\n",
      "Requirement already satisfied: psutil in c:\\users\\sahil sutar\\anaconda3\\lib\\site-packages (from memory-profiler) (5.9.0)\n",
      "Memory usage: 161.25390625 MiB\n"
     ]
    }
   ],
   "source": [
    "# 16]  Demonstrate how to use memory profiling to check the memory usage of a small program.\n",
    "'''To demonstrate memory profiling in a Jupyter notebook, you can use the memory_profiler library. Here's how you can set up and use memory profiling in a Jupyter notebook:\n",
    "\n",
    "Step 1: Install memory_profiler\n",
    "You can install the memory_profiler library in the notebook environment using:'''\n",
    "!pip install memory-profiler\n",
    "\n",
    "'''Step 2: Create a small function for memory profiling\n",
    "Here’s an example function to profile memory usage. We'll use the @profile decorator in Jupyter Notebook to track memory consumption.'''\n",
    "from memory_profiler import memory_usage\n",
    "\n",
    "# Define the function without the @profile decorator for better notebook compatibility\n",
    "def my_function():\n",
    "    a = [1] * (10**6)  # Allocate memory for a large list\n",
    "    b = [2] * (2 * 10**7)  # Allocate memory for another large list\n",
    "    time.sleep(1)  # Simulate some processing\n",
    "    del b  # Free memory by deleting one of the lists\n",
    "    return a\n",
    "\n",
    "# Measure memory usage\n",
    "mem_usage = memory_usage(my_function)\n",
    "print(f\"Memory usage: {max(mem_usage) - min(mem_usage)} MiB\")\n"
   ]
  },
  {
   "cell_type": "code",
   "execution_count": 205,
   "id": "ef02f01d-cefe-464b-b45a-5146631afb0f",
   "metadata": {},
   "outputs": [
    {
     "name": "stdout",
     "output_type": "stream",
     "text": [
      "1\n",
      "2\n",
      "3\n",
      "4\n",
      "5\n",
      "6\n",
      "7\n",
      "8\n",
      "9\n",
      "10\n",
      "\n"
     ]
    }
   ],
   "source": [
    "# 17]  Write a Python program to create and write a list of numbers to a file, one number per line.\n",
    "'''Here is an example of how you can write a list of numbers to a file, one number per line, in a Jupyter notebook:\n",
    "\n",
    "Step 1: Create a list of numbers\n",
    "We'll create a list of numbers that we want to write to a file.\n",
    "\n",
    "Step 2: Open a file in write mode\n",
    "We’ll use Python's open() function to create a new file (or overwrite an existing one) in write mode ('w').\n",
    "\n",
    "Step 3: Write the numbers to the file\n",
    "We can loop through the list and write each number to the file, followed by a newline character (\\n).\n",
    "\n",
    "Step 4: Read the file (optional)\n",
    "We’ll read the file afterward to verify the numbers were written correctly.'''\n",
    "# Step 1: Create a list of numbers\n",
    "numbers = [1, 2, 3, 4, 5, 6, 7, 8, 9, 10]\n",
    "\n",
    "# Step 2: Open the file in write mode and write the numbers to the file\n",
    "file_name = \"numbers.txt\"\n",
    "with open(file_name, 'w') as file:\n",
    "    for number in numbers:\n",
    "        file.write(f\"{number}\\n\")\n",
    "\n",
    "# Step 3: Read the file to verify the content\n",
    "with open(file_name, 'r') as file:\n",
    "    content = file.read()\n",
    "    print(content)\n"
   ]
  },
  {
   "cell_type": "code",
   "execution_count": 208,
   "id": "31388b56-508a-4131-877d-a2c8004bb6fc",
   "metadata": {},
   "outputs": [
    {
     "name": "stderr",
     "output_type": "stream",
     "text": [
      "DEBUG:simple_logger:This is a debug message\n",
      "2024-12-05 13:14:31,812 - DEBUG - This is a debug message\n",
      "2024-12-05 13:14:31,812 - DEBUG - This is a debug message\n",
      "INFO:simple_logger:This is an info message\n",
      "2024-12-05 13:14:31,817 - INFO - This is an info message\n",
      "2024-12-05 13:14:31,817 - INFO - This is an info message\n",
      "WARNING:simple_logger:This is a warning message\n",
      "2024-12-05 13:14:31,822 - WARNING - This is a warning message\n",
      "2024-12-05 13:14:31,822 - WARNING - This is a warning message\n"
     ]
    }
   ],
   "source": [
    "# 18]  How would you implement a basic logging setup that logs to a file with rotation after 1MB?\n",
    "'''Explanation:\n",
    "Logger Setup: We create a logger named simple_logger and set its level to DEBUG so it captures all log levels.\n",
    "RotatingFileHandler:\n",
    "This handler writes to a file named simple_app.log.\n",
    "maxBytes=1e6 means the log file will rotate when it reaches 1MB (1 million bytes).\n",
    "backupCount=3 keeps up to 3 backup files (e.g., simple_app.log.1, simple_app.log.2, etc.).\n",
    "Log Format: The log format includes the timestamp, log level, and message.\n",
    "Logging: We log a few different types of messages (debug, info, warning).'''\n",
    "import logging\n",
    "from logging.handlers import RotatingFileHandler\n",
    "\n",
    "# Set up logger\n",
    "logger = logging.getLogger('simple_logger')\n",
    "logger.setLevel(logging.DEBUG)\n",
    "\n",
    "# Set up RotatingFileHandler with max file size 1MB and 3 backup files\n",
    "handler = RotatingFileHandler('simple_app.log', maxBytes=1e6, backupCount=3)\n",
    "handler.setLevel(logging.DEBUG)\n",
    "\n",
    "# Define a simple log format\n",
    "formatter = logging.Formatter('%(asctime)s - %(levelname)s - %(message)s')\n",
    "handler.setFormatter(formatter)\n",
    "\n",
    "# Add the handler to the logger\n",
    "logger.addHandler(handler)\n",
    "\n",
    "# Log a few messages\n",
    "logger.debug('This is a debug message')\n",
    "logger.info('This is an info message')\n",
    "logger.warning('This is a warning message')\n"
   ]
  },
  {
   "cell_type": "code",
   "execution_count": 210,
   "id": "2a702ad7-1ec9-4671-9874-275c1802f0eb",
   "metadata": {},
   "outputs": [
    {
     "name": "stdout",
     "output_type": "stream",
     "text": [
      "IndexError caught: list index out of range\n"
     ]
    }
   ],
   "source": [
    "# 19] Write a program that handles both IndexError and KeyError using a try-except block.\n",
    "#To handle both IndexError and KeyError in Python using a try-except block, you can catch each specific exception and handle them appropriately. Here's a program that demonstrates how to handle both exceptions.\n",
    "# Example program to handle both IndexError and KeyError\n",
    "'''Explanation:\n",
    "try block:\n",
    "\n",
    "It attempts to access an index (my_list[5]) that does not exist, which raises an IndexError.\n",
    "It also attempts to access a key ('d') in a dictionary that does not exist, which raises a KeyError.\n",
    "except blocks:\n",
    "\n",
    "The IndexError is caught first, and an appropriate message is printed.\n",
    "The KeyError is caught second, and a corresponding message is displayed.'''\n",
    "def handle_exceptions():\n",
    "    my_list = [1, 2, 3]\n",
    "    my_dict = {'a': 1, 'b': 2, 'c': 3}\n",
    "    \n",
    "    try:\n",
    "        # Trying to access an index that may not exist\n",
    "        index_value = my_list[5]  # This will raise an IndexError\n",
    "        print(f\"Value at index 5: {index_value}\")\n",
    "        \n",
    "        # Trying to access a key that may not exist\n",
    "        key_value = my_dict['d']  # This will raise a KeyError\n",
    "        print(f\"Value for key 'd': {key_value}\")\n",
    "    \n",
    "    except IndexError as e:\n",
    "        print(f\"IndexError caught: {e}\")\n",
    "    \n",
    "    except KeyError as e:\n",
    "        print(f\"KeyError caught: {e}\")\n",
    "\n",
    "# Run the function\n",
    "handle_exceptions()\n"
   ]
  },
  {
   "cell_type": "code",
   "execution_count": 212,
   "id": "359566a5-6b37-4c63-a349-cb320a8d43cb",
   "metadata": {},
   "outputs": [
    {
     "name": "stdout",
     "output_type": "stream",
     "text": [
      "Hello, world! This is a string written to the file.\n",
      "I am Sahil Sutar.\n",
      "I am doing Data Science Course.\n",
      "I am Fresher.\n",
      "This is a new line of text.\n",
      "\n"
     ]
    }
   ],
   "source": [
    "# 20]  How would you open a file and read its contents using a context manager in Python?\n",
    "'''To open a file and read its contents using a context manager in Python, you can use the with statement. The with statement automatically manages resources, ensuring that the file is properly closed when the block of code is finished executing, even if an error occurs.\n",
    "Explanation:\n",
    "Context Manager (with statement):\n",
    "\n",
    "with open(file_name, 'r') as file: opens the file in read mode ('r').\n",
    "The file object is assigned to the variable file inside the with block.\n",
    "The context manager automatically handles closing the file once the block is exited, even if an exception occurs inside the block.\n",
    "Reading the File:\n",
    "\n",
    "file.read() reads the entire content of the file and stores it in the content variable.\n",
    "After that, you can manipulate or print the contents of the file.\n",
    "Here’s an example of how you would open a file, read its contents, and print them using a context manager:'''\n",
    "# Open and read a file using a context manager\n",
    "file_name = 'example.txt'  # Replace with your actual file path\n",
    "\n",
    "# Using the 'with' statement to open the file\n",
    "with open(file_name, 'r') as file:\n",
    "    # Read the entire content of the file\n",
    "    content = file.read()\n",
    "\n",
    "    # Print the file content\n",
    "    print(content)\n"
   ]
  },
  {
   "cell_type": "code",
   "execution_count": 216,
   "id": "330a0a30-6169-4a4e-a2ed-ba5c1e539242",
   "metadata": {},
   "outputs": [
    {
     "name": "stdout",
     "output_type": "stream",
     "text": [
      "The word 'I' appears 3 times in the file 'example.txt'.\n"
     ]
    }
   ],
   "source": [
    "# 21] Write a Python program that reads a file and prints the number of occurrences of a specific word.\n",
    "# Function to count occurrences of a specific word in a file\n",
    "def count_word_occurrences(file_name, word_to_find):\n",
    "    word_count = 0\n",
    "    try:\n",
    "        # Open the file using a context manager\n",
    "        with open(file_name, 'r') as file:\n",
    "            # Iterate through each line in the file\n",
    "            for line in file:\n",
    "                # Count occurrences of the word in the line (case-insensitive)\n",
    "                word_count += line.lower().split().count(word_to_find.lower())\n",
    "        \n",
    "        # Print the result\n",
    "        print(f\"The word '{word_to_find}' appears {word_count} times in the file '{file_name}'.\")\n",
    "    \n",
    "    except FileNotFoundError:\n",
    "        print(f\"The file '{file_name}' was not found.\")\n",
    "    except Exception as e:\n",
    "        print(f\"An error occurred: {e}\")\n",
    "\n",
    "# Example usage\n",
    "file_name = 'example.txt'  # Replace with your actual file path\n",
    "word_to_find = 'I'     # The word to search for in the file\n",
    "count_word_occurrences(file_name, word_to_find)\n"
   ]
  },
  {
   "cell_type": "code",
   "execution_count": 220,
   "id": "9727d441-7965-4113-89c9-01d1837b6bfd",
   "metadata": {},
   "outputs": [
    {
     "name": "stdout",
     "output_type": "stream",
     "text": [
      "File contents:\n",
      "Hello, world! This is a string written to the file.\n",
      "I am Sahil Sutar.\n",
      "I am doing Data Science Course.\n",
      "I am Fresher.\n",
      "This is a new line of text.\n",
      "\n"
     ]
    }
   ],
   "source": [
    "# 22] How can you check if a file is empty before attempting to read its contents?\n",
    "'''To check if a file is empty before attempting to read its contents in Python, you can check the file's size using the os.path.getsize() function. If the file size is 0 bytes, it is empty. If the file size is greater than 0, then it contains data.\n",
    "Explanation:\n",
    "Check if the file exists and is not empty:\n",
    "os.path.exists(file_name) checks if the file exists.\n",
    "os.path.getsize(file_name) > 0 checks if the file size is greater than 0 bytes, indicating that the file is not empty.\n",
    "Reading the file:\n",
    "If the file is not empty, the program opens the file using a context manager (with open(file_name, 'r') as file), reads its content, and prints it.\n",
    "If the file is empty or does not exist, it prints a message indicating this.\n",
    "Error Handling:\n",
    "The try-except block is used to catch any errors that might occur while reading the file (e.g., permission issues).\n",
    "Here’s a Python program that demonstrates this:'''\n",
    "import os\n",
    "\n",
    "# Function to check if the file is empty and then read its contents\n",
    "def read_file_if_not_empty(file_name):\n",
    "    # Check if the file exists and is empty\n",
    "    if os.path.exists(file_name) and os.path.getsize(file_name) > 0:\n",
    "        try:\n",
    "            # Open the file using a context manager and read its contents\n",
    "            with open(file_name, 'r') as file:\n",
    "                content = file.read()\n",
    "                print(f\"File contents:\\n{content}\")\n",
    "        except Exception as e:\n",
    "            print(f\"An error occurred while reading the file: {e}\")\n",
    "    else:\n",
    "        print(f\"The file '{file_name}' is either empty or does not exist.\")\n",
    "\n",
    "# Example usage\n",
    "file_name = 'example.txt'  # Replace with your actual file path\n",
    "read_file_if_not_empty(file_name)\n"
   ]
  },
  {
   "cell_type": "code",
   "execution_count": 222,
   "id": "2cd85a98-a146-4a79-95c3-c3c2e03e7831",
   "metadata": {},
   "outputs": [
    {
     "name": "stderr",
     "output_type": "stream",
     "text": [
      "ERROR:root:File 'non_existent_file.txt' not found: [Errno 2] No such file or directory: 'non_existent_file.txt'\n",
      "2024-12-05 13:22:25,753 - ERROR - File 'non_existent_file.txt' not found: [Errno 2] No such file or directory: 'non_existent_file.txt'\n",
      "2024-12-05 13:22:25,753 - ERROR - File 'non_existent_file.txt' not found: [Errno 2] No such file or directory: 'non_existent_file.txt'\n"
     ]
    },
    {
     "name": "stdout",
     "output_type": "stream",
     "text": [
      "Error: File 'non_existent_file.txt' not found.\n"
     ]
    }
   ],
   "source": [
    "# 23] Write a Python program that writes to a log file when an error occurs during file handling.\n",
    "'''To write a Python program that logs errors during file handling to a log file, you can use the logging module. The program will try to perform file operations (e.g., opening a file), and if an error occurs (like a FileNotFoundError or PermissionError), it will log the error with details.\n",
    "Explanation:\n",
    "Logging Setup:\n",
    "\n",
    "logging.basicConfig() configures the logging system to write log messages to a file named file_handling_errors.log.\n",
    "The log level is set to logging.ERROR, meaning only error messages and above (like critical errors) will be logged.\n",
    "The format specifies how the log messages should be structured, which includes the timestamp, log level, and the actual message.\n",
    "File Handling with Error Logging:\n",
    "\n",
    "The read_file() function tries to open and read the specified file.\n",
    "If an error occurs during the file handling (such as the file not being found or permission issues), it is caught by the except blocks.\n",
    "The error is logged using logging.error(), which writes the error message to the log file.\n",
    "The program also prints a message to the user about the error.\n",
    "Error Handling:\n",
    "\n",
    "FileNotFoundError is logged if the file does not exist.\n",
    "PermissionError is logged if the user does not have permission to access the file.\n",
    "A generic Exception handler is included to log any other unexpected errors.'''\n",
    "import logging\n",
    "\n",
    "# Set up logging configuration\n",
    "logging.basicConfig(\n",
    "    filename='file_handling_errors.log',  # Log file to store error messages\n",
    "    level=logging.ERROR,  # Only log errors and above\n",
    "    format='%(asctime)s - %(levelname)s - %(message)s',  # Log format\n",
    ")\n",
    "\n",
    "def read_file(file_name):\n",
    "    try:\n",
    "        # Attempt to open and read a file\n",
    "        with open(file_name, 'r') as file:\n",
    "            content = file.read()\n",
    "            print(content)\n",
    "    except FileNotFoundError as e:\n",
    "        logging.error(f\"File '{file_name}' not found: {e}\")\n",
    "        print(f\"Error: File '{file_name}' not found.\")\n",
    "    except PermissionError as e:\n",
    "        logging.error(f\"Permission denied when accessing '{file_name}': {e}\")\n",
    "        print(f\"Error: Permission denied when accessing '{file_name}'.\")\n",
    "    except Exception as e:\n",
    "        logging.error(f\"An unexpected error occurred while handling the file '{file_name}': {e}\")\n",
    "        print(f\"An unexpected error occurred. Check the log for details.\")\n",
    "\n",
    "# Example usage\n",
    "file_name = 'non_existent_file.txt'  # Replace with a non-existent file to test\n",
    "read_file(file_name)\n"
   ]
  }
 ],
 "metadata": {
  "kernelspec": {
   "display_name": "Python 3 (ipykernel)",
   "language": "python",
   "name": "python3"
  },
  "language_info": {
   "codemirror_mode": {
    "name": "ipython",
    "version": 3
   },
   "file_extension": ".py",
   "mimetype": "text/x-python",
   "name": "python",
   "nbconvert_exporter": "python",
   "pygments_lexer": "ipython3",
   "version": "3.12.7"
  }
 },
 "nbformat": 4,
 "nbformat_minor": 5
}
